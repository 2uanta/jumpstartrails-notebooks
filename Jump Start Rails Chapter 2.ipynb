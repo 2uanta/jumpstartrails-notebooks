{
 "metadata": {
  "name": ""
 },
 "nbformat": 3,
 "nbformat_minor": 0,
 "worksheets": [
  {
   "cells": [
    {
     "cell_type": "heading",
     "level": 1,
     "metadata": {},
     "source": [
      "Chapter 2: Starting an App"
     ]
    },
    {
     "cell_type": "heading",
     "level": 2,
     "metadata": {},
     "source": [
      "General notes to run a project"
     ]
    },
    {
     "cell_type": "markdown",
     "metadata": {},
     "source": [
      "<pre><strong>\n",
      "rvm use --create 2.0.0@project_name\n",
      "gem install rails\n",
      "rails new project_name\n",
      "cd project_name\n",
      "rvm --rvmrc 2.0.0@project_name\n",
      "rvm rvmrc warning ignore all.rvmrcs\n",
      "</strong></pre>"
     ]
    },
    {
     "cell_type": "raw",
     "metadata": {},
     "source": [
      "quan@quan-VirtualBox:~/rails_projects$ rails new project_name\n",
      "      create  \n",
      "      create  README.rdoc\n",
      "      create  Rakefile\n",
      "      create  config.ru\n",
      "      create  .gitignore\n",
      "      create  Gemfile\n",
      "      create  app\n",
      "      create  app/assets/javascripts/application.js\n",
      "      create  app/assets/stylesheets/application.css\n",
      "      create  app/controllers/application_controller.rb\n",
      "      create  app/helpers/application_helper.rb\n",
      "      create  app/views/layouts/application.html.erb\n",
      "      create  app/assets/images/.keep\n",
      "      create  app/mailers/.keep\n",
      "      create  app/models/.keep\n",
      "      create  app/controllers/concerns/.keep\n",
      "      create  app/models/concerns/.keep\n",
      "      create  bin\n",
      "      create  bin/bundle\n",
      "      create  bin/rails\n",
      "      create  bin/rake\n",
      "      create  config\n",
      "      create  config/routes.rb\n",
      "      create  config/application.rb\n",
      "      create  config/environment.rb\n",
      "      create  config/environments\n",
      "      create  config/environments/development.rb\n",
      "      create  config/environments/production.rb\n",
      "      create  config/environments/test.rb\n",
      "      create  config/initializers\n",
      "      create  config/initializers/backtrace_silencers.rb\n",
      "      create  config/initializers/filter_parameter_logging.rb\n",
      "      create  config/initializers/inflections.rb\n",
      "      create  config/initializers/mime_types.rb\n",
      "      create  config/initializers/secret_token.rb\n",
      "      create  config/initializers/session_store.rb\n",
      "      create  config/initializers/wrap_parameters.rb\n",
      "      create  config/locales\n",
      "      create  config/locales/en.yml\n",
      "      create  config/boot.rb\n",
      "      create  config/database.yml\n",
      "      create  db\n",
      "      create  db/seeds.rb\n",
      "      create  lib\n",
      "      create  lib/tasks\n",
      "      create  lib/tasks/.keep\n",
      "      create  lib/assets\n",
      "      create  lib/assets/.keep\n",
      "      create  log\n",
      "      create  log/.keep\n",
      "      create  public\n",
      "      create  public/404.html\n",
      "      create  public/422.html\n",
      "      create  public/500.html\n",
      "      create  public/favicon.ico\n",
      "      create  public/robots.txt\n",
      "      create  test/fixtures\n",
      "      create  test/fixtures/.keep\n",
      "      create  test/controllers\n",
      "      create  test/controllers/.keep\n",
      "      create  test/mailers\n",
      "      create  test/mailers/.keep\n",
      "      create  test/models\n",
      "      create  test/models/.keep\n",
      "      create  test/helpers\n",
      "      create  test/helpers/.keep\n",
      "      create  test/integration\n",
      "      create  test/integration/.keep\n",
      "      create  test/test_helper.rb\n",
      "      create  tmp/cache\n",
      "      create  tmp/cache/assets\n",
      "      create  vendor/assets/javascripts\n",
      "      create  vendor/assets/javascripts/.keep\n",
      "      create  vendor/assets/stylesheets\n",
      "      create  vendor/assets/stylesheets/.keep\n",
      "         run  bundle install\n",
      "Fetching gem metadata from https://rubygems.org/..........\n",
      "Fetching gem metadata from https://rubygems.org/..\n",
      "Resolving dependencies...\n",
      "Using rake (10.1.0) \n",
      "Using i18n (0.6.5) \n",
      "Using minitest (4.7.5) \n",
      "Using multi_json (1.8.0) \n",
      "Using atomic (1.1.14) \n",
      "Using thread_safe (0.1.3) \n",
      "Using tzinfo (0.3.37) \n",
      "Using activesupport (4.0.0) \n",
      "Using builder (3.1.4) \n",
      "Using erubis (2.7.0) \n",
      "Using rack (1.5.2) \n",
      "Using rack-test (0.6.2) \n",
      "Using actionpack (4.0.0) \n",
      "Using mime-types (1.25) \n",
      "Using polyglot (0.3.3) \n",
      "Using treetop (1.4.15) \n",
      "Using mail (2.5.4) \n",
      "Using actionmailer (4.0.0) \n",
      "Using activemodel (4.0.0) \n",
      "Using activerecord-deprecated_finders (1.0.3) \n",
      "Using arel (4.0.0) \n",
      "Using activerecord (4.0.0) \n",
      "Using bundler (1.3.5) \n",
      "Installing coffee-script-source (1.6.3) \n",
      "Installing execjs (2.0.1) \n",
      "Installing coffee-script (2.2.0) \n",
      "Using thor (0.18.1) \n",
      "Using railties (4.0.0) \n",
      "Installing coffee-rails (4.0.0) \n",
      "Using hike (1.2.3) \n",
      "Installing jbuilder (1.5.1) \n",
      "Installing jquery-rails (3.0.4) \n",
      "Installing json (1.8.0) \n",
      "Using tilt (1.4.1) \n",
      "Using sprockets (2.10.0) \n",
      "Using sprockets-rails (2.0.0) \n",
      "Using rails (4.0.0) \n",
      "Installing rdoc (3.12.2) \n",
      "Installing sass (3.2.10) \n",
      "Installing sass-rails (4.0.0) \n",
      "Installing sdoc (0.3.20) \n",
      "Installing sqlite3 (1.3.8) \n",
      "Installing turbolinks (1.3.0) \n",
      "Installing uglifier (2.2.1) \n",
      "Your bundle is complete!\n",
      "Use `bundle show [gemname]` to see where a bundled gem is installed.\n",
      "Post-install message from rdoc:\n",
      "Depending on your version of ruby, you may need to install ruby rdoc/ri data:\n",
      "\n",
      " <= 1.8.6 : unsupported\n",
      "  = 1.8.7 : gem install rdoc-data; rdoc-data --install\n",
      "  = 1.9.1 : gem install rdoc-data; rdoc-data --install\n",
      " >= 1.9.2 : nothing to do! Yay!\n",
      "quan@quan-VirtualBox:~/rails_projects$ \n"
     ]
    },
    {
     "cell_type": "heading",
     "level": 2,
     "metadata": {},
     "source": [
      "Start rails server"
     ]
    },
    {
     "cell_type": "markdown",
     "metadata": {},
     "source": [
      "<pre><strong>\n",
      "rails server or rails s\n",
      "</strong></pre>\n",
      "- If there is an error like \"Could not find a JavaScript runtime\" then open the Gemfile and uncomment the line that references to \"therubyracer\".\n",
      "\n",
      "- Connect to http://localhost:3000"
     ]
    },
    {
     "cell_type": "heading",
     "level": 2,
     "metadata": {},
     "source": [
      "Standard application folder structure"
     ]
    },
    {
     "cell_type": "code",
     "collapsed": false,
     "input": [
      "!tree training"
     ],
     "language": "python",
     "metadata": {},
     "outputs": [
      {
       "output_type": "stream",
       "stream": "stdout",
       "text": [
        "\u001b[01;34mtraining\u001b[00m\r\n",
        "\u251c\u2500\u2500 \u001b[01;34mapp\u001b[00m\r\n",
        "\u2502\u00a0\u00a0 \u251c\u2500\u2500 \u001b[01;34massets\u001b[00m\r\n",
        "\u2502\u00a0\u00a0 \u2502\u00a0\u00a0 \u251c\u2500\u2500 \u001b[01;34mimages\u001b[00m\r\n",
        "\u2502\u00a0\u00a0 \u2502\u00a0\u00a0 \u251c\u2500\u2500 \u001b[01;34mjavascripts\u001b[00m\r\n",
        "\u2502\u00a0\u00a0 \u2502\u00a0\u00a0 \u2502\u00a0\u00a0 \u2514\u2500\u2500 application.js\r\n",
        "\u2502\u00a0\u00a0 \u2502\u00a0\u00a0 \u2514\u2500\u2500 \u001b[01;34mstylesheets\u001b[00m\r\n",
        "\u2502\u00a0\u00a0 \u2502\u00a0\u00a0     \u2514\u2500\u2500 application.css\r\n",
        "\u2502\u00a0\u00a0 \u251c\u2500\u2500 \u001b[01;34mcontrollers\u001b[00m\r\n",
        "\u2502\u00a0\u00a0 \u2502\u00a0\u00a0 \u251c\u2500\u2500 application_controller.rb\r\n",
        "\u2502\u00a0\u00a0 \u2502\u00a0\u00a0 \u2514\u2500\u2500 \u001b[01;34mconcerns\u001b[00m\r\n",
        "\u2502\u00a0\u00a0 \u251c\u2500\u2500 \u001b[01;34mhelpers\u001b[00m\r\n",
        "\u2502\u00a0\u00a0 \u2502\u00a0\u00a0 \u2514\u2500\u2500 application_helper.rb\r\n",
        "\u2502\u00a0\u00a0 \u251c\u2500\u2500 \u001b[01;34mmailers\u001b[00m\r\n",
        "\u2502\u00a0\u00a0 \u251c\u2500\u2500 \u001b[01;34mmodels\u001b[00m\r\n",
        "\u2502\u00a0\u00a0 \u2502\u00a0\u00a0 \u2514\u2500\u2500 \u001b[01;34mconcerns\u001b[00m\r\n",
        "\u2502\u00a0\u00a0 \u2514\u2500\u2500 \u001b[01;34mviews\u001b[00m\r\n",
        "\u2502\u00a0\u00a0     \u2514\u2500\u2500 \u001b[01;34mlayouts\u001b[00m\r\n",
        "\u2502\u00a0\u00a0         \u2514\u2500\u2500 application.html.erb\r\n",
        "\u251c\u2500\u2500 \u001b[01;34mbin\u001b[00m\r\n",
        "\u2502\u00a0\u00a0 \u251c\u2500\u2500 \u001b[01;32mbundle\u001b[00m\r\n",
        "\u2502\u00a0\u00a0 \u251c\u2500\u2500 \u001b[01;32mrails\u001b[00m\r\n",
        "\u2502\u00a0\u00a0 \u2514\u2500\u2500 \u001b[01;32mrake\u001b[00m\r\n",
        "\u251c\u2500\u2500 \u001b[01;34mconfig\u001b[00m\r\n",
        "\u2502\u00a0\u00a0 \u251c\u2500\u2500 application.rb\r\n",
        "\u2502\u00a0\u00a0 \u251c\u2500\u2500 boot.rb\r\n",
        "\u2502\u00a0\u00a0 \u251c\u2500\u2500 database.yml\r\n",
        "\u2502\u00a0\u00a0 \u251c\u2500\u2500 environment.rb\r\n",
        "\u2502\u00a0\u00a0 \u251c\u2500\u2500 \u001b[01;34menvironments\u001b[00m\r\n",
        "\u2502\u00a0\u00a0 \u2502\u00a0\u00a0 \u251c\u2500\u2500 development.rb\r\n",
        "\u2502\u00a0\u00a0 \u2502\u00a0\u00a0 \u251c\u2500\u2500 production.rb\r\n",
        "\u2502\u00a0\u00a0 \u2502\u00a0\u00a0 \u2514\u2500\u2500 test.rb\r\n",
        "\u2502\u00a0\u00a0 \u251c\u2500\u2500 \u001b[01;34minitializers\u001b[00m\r\n",
        "\u2502\u00a0\u00a0 \u2502\u00a0\u00a0 \u251c\u2500\u2500 backtrace_silencers.rb\r\n",
        "\u2502\u00a0\u00a0 \u2502\u00a0\u00a0 \u251c\u2500\u2500 filter_parameter_logging.rb\r\n",
        "\u2502\u00a0\u00a0 \u2502\u00a0\u00a0 \u251c\u2500\u2500 inflections.rb\r\n",
        "\u2502\u00a0\u00a0 \u2502\u00a0\u00a0 \u251c\u2500\u2500 mime_types.rb\r\n",
        "\u2502\u00a0\u00a0 \u2502\u00a0\u00a0 \u251c\u2500\u2500 secret_token.rb\r\n",
        "\u2502\u00a0\u00a0 \u2502\u00a0\u00a0 \u251c\u2500\u2500 session_store.rb\r\n",
        "\u2502\u00a0\u00a0 \u2502\u00a0\u00a0 \u2514\u2500\u2500 wrap_parameters.rb\r\n",
        "\u2502\u00a0\u00a0 \u251c\u2500\u2500 \u001b[01;34mlocales\u001b[00m\r\n",
        "\u2502\u00a0\u00a0 \u2502\u00a0\u00a0 \u2514\u2500\u2500 en.yml\r\n",
        "\u2502\u00a0\u00a0 \u2514\u2500\u2500 routes.rb\r\n",
        "\u251c\u2500\u2500 config.ru\r\n",
        "\u251c\u2500\u2500 \u001b[01;34mdb\u001b[00m\r\n",
        "\u2502\u00a0\u00a0 \u251c\u2500\u2500 development.sqlite3\r\n",
        "\u2502\u00a0\u00a0 \u2514\u2500\u2500 seeds.rb\r\n",
        "\u251c\u2500\u2500 Gemfile\r\n",
        "\u251c\u2500\u2500 Gemfile.lock\r\n",
        "\u251c\u2500\u2500 \u001b[01;34mlib\u001b[00m\r\n",
        "\u2502\u00a0\u00a0 \u251c\u2500\u2500 \u001b[01;34massets\u001b[00m\r\n",
        "\u2502\u00a0\u00a0 \u2514\u2500\u2500 \u001b[01;34mtasks\u001b[00m\r\n",
        "\u251c\u2500\u2500 \u001b[01;34mlog\u001b[00m\r\n",
        "\u2502\u00a0\u00a0 \u2514\u2500\u2500 development.log\r\n",
        "\u251c\u2500\u2500 \u001b[01;34mpublic\u001b[00m\r\n",
        "\u2502\u00a0\u00a0 \u251c\u2500\u2500 404.html\r\n",
        "\u2502\u00a0\u00a0 \u251c\u2500\u2500 422.html\r\n",
        "\u2502\u00a0\u00a0 \u251c\u2500\u2500 500.html\r\n",
        "\u2502\u00a0\u00a0 \u251c\u2500\u2500 favicon.ico\r\n",
        "\u2502\u00a0\u00a0 \u2514\u2500\u2500 robots.txt\r\n",
        "\u251c\u2500\u2500 Rakefile\r\n",
        "\u251c\u2500\u2500 README.rdoc\r\n",
        "\u251c\u2500\u2500 \u001b[01;34mtest\u001b[00m\r\n",
        "\u2502\u00a0\u00a0 \u251c\u2500\u2500 \u001b[01;34mcontrollers\u001b[00m\r\n",
        "\u2502\u00a0\u00a0 \u251c\u2500\u2500 \u001b[01;34mfixtures\u001b[00m\r\n",
        "\u2502\u00a0\u00a0 \u251c\u2500\u2500 \u001b[01;34mhelpers\u001b[00m\r\n",
        "\u2502\u00a0\u00a0 \u251c\u2500\u2500 \u001b[01;34mintegration\u001b[00m\r\n",
        "\u2502\u00a0\u00a0 \u251c\u2500\u2500 \u001b[01;34mmailers\u001b[00m\r\n",
        "\u2502\u00a0\u00a0 \u251c\u2500\u2500 \u001b[01;34mmodels\u001b[00m\r\n",
        "\u2502\u00a0\u00a0 \u2514\u2500\u2500 test_helper.rb\r\n",
        "\u251c\u2500\u2500 \u001b[01;34mtmp\u001b[00m\r\n",
        "\u2502\u00a0\u00a0 \u251c\u2500\u2500 \u001b[01;34mcache\u001b[00m\r\n",
        "\u2502\u00a0\u00a0 \u2502\u00a0\u00a0 \u2514\u2500\u2500 \u001b[01;34massets\u001b[00m\r\n",
        "\u2502\u00a0\u00a0 \u251c\u2500\u2500 \u001b[01;34mpids\u001b[00m\r\n",
        "\u2502\u00a0\u00a0 \u251c\u2500\u2500 \u001b[01;34msessions\u001b[00m\r\n",
        "\u2502\u00a0\u00a0 \u2514\u2500\u2500 \u001b[01;34msockets\u001b[00m\r\n",
        "\u2514\u2500\u2500 \u001b[01;34mvendor\u001b[00m\r\n",
        "    \u2514\u2500\u2500 \u001b[01;34massets\u001b[00m\r\n",
        "        \u251c\u2500\u2500 \u001b[01;34mjavascripts\u001b[00m\r\n",
        "        \u2514\u2500\u2500 \u001b[01;34mstylesheets\u001b[00m\r\n",
        "\r\n",
        "41 directories, 38 files\r\n"
       ]
      }
     ],
     "prompt_number": 6
    },
    {
     "cell_type": "code",
     "collapsed": false,
     "input": [
      "%cd training"
     ],
     "language": "python",
     "metadata": {},
     "outputs": [
      {
       "output_type": "stream",
       "stream": "stdout",
       "text": [
        "/home/quan/rails_projects/training\n"
       ]
      }
     ],
     "prompt_number": 8
    },
    {
     "cell_type": "heading",
     "level": 2,
     "metadata": {},
     "source": [
      "Rails generators"
     ]
    },
    {
     "cell_type": "markdown",
     "metadata": {},
     "source": [
      "<pre><strong>\n",
      "rails generate\n",
      "</strong></pre>"
     ]
    },
    {
     "cell_type": "raw",
     "metadata": {},
     "source": [
      "quan@quan-VirtualBox:~/rails_projects/training$ rails generate\n",
      "Usage: rails generate GENERATOR [args] [options]\n",
      "\n",
      "General options:\n",
      "  -h, [--help]     # Print generator's options and usage\n",
      "  -p, [--pretend]  # Run but do not make any changes\n",
      "  -f, [--force]    # Overwrite files that already exist\n",
      "  -s, [--skip]     # Skip files that already exist\n",
      "  -q, [--quiet]    # Suppress status output\n",
      "\n",
      "Please choose a generator below.\n",
      "\n",
      "Rails:\n",
      "  assets\n",
      "  controller\n",
      "  generator\n",
      "  helper\n",
      "  integration_test\n",
      "  jbuilder\n",
      "  mailer\n",
      "  migration\n",
      "  model\n",
      "  resource\n",
      "  scaffold\n",
      "  scaffold_controller\n",
      "  task\n",
      "\n",
      "Coffee:\n",
      "  coffee:assets\n",
      "\n",
      "Jquery:\n",
      "  jquery:install\n",
      "\n",
      "Js:\n",
      "  js:assets\n",
      "\n",
      "TestUnit:\n",
      "  test_unit:plugin\n",
      "\n",
      "quan@quan-VirtualBox:~/rails_projects/training$"
     ]
    },
    {
     "cell_type": "heading",
     "level": 3,
     "metadata": {},
     "source": [
      "Generating a controller"
     ]
    },
    {
     "cell_type": "markdown",
     "metadata": {},
     "source": [
      "<pre>\n",
      "<strong>\n",
      "quan@quan-VirtualBox:~/rails_projects/training$ rails generate controller pages index about\n",
      "</strong>\n",
      "</pre>"
     ]
    },
    {
     "cell_type": "raw",
     "metadata": {},
     "source": [
      "      create  app/controllers/pages_controller.rb\n",
      "       route  get \"pages/about\"\n",
      "       route  get \"pages/index\"\n",
      "      invoke  erb\n",
      "      create    app/views/pages\n",
      "      create    app/views/pages/index.html.erb\n",
      "      create    app/views/pages/about.html.erb\n",
      "      invoke  test_unit\n",
      "      create    test/controllers/pages_controller_test.rb\n",
      "      invoke  helper\n",
      "      create    app/helpers/pages_helper.rb\n",
      "      invoke    test_unit\n",
      "      create      test/helpers/pages_helper_test.rb\n",
      "      invoke  assets\n",
      "      invoke    coffee\n",
      "      create      app/assets/javascripts/pages.js.coffee\n",
      "      invoke    scss\n",
      "      create      app/assets/stylesheets/pages.css.scss\n",
      "quan@quan-VirtualBox:~/rails_projects/training$ "
     ]
    },
    {
     "cell_type": "markdown",
     "metadata": {},
     "source": [
      "\n",
      "\n",
      "- start rails server\n",
      "- Connect to http://localhost:3000/pages/index"
     ]
    },
    {
     "cell_type": "heading",
     "level": 3,
     "metadata": {},
     "source": [
      "app/controllers/pages_controller.rb"
     ]
    },
    {
     "cell_type": "raw",
     "metadata": {},
     "source": [
      "    class PagesController < ApplicationController\n",
      "      def index\n",
      "      end\n",
      "    \n",
      "      def about\n",
      "      end\n",
      "    end"
     ]
    },
    {
     "cell_type": "heading",
     "level": 3,
     "metadata": {},
     "source": [
      "app/views/pages/index.html.erb"
     ]
    },
    {
     "cell_type": "raw",
     "metadata": {},
     "source": [
      "<pre>>>>start [app/views/pages/index.html.erb]</pre>\n",
      "<h1>Pages#index</h1>\n",
      "<p>Find me in app/views/pages/index.html.erb</p>\n",
      "<pre>>>>end [app/views/pages/index.html.erb]</pre>"
     ]
    },
    {
     "cell_type": "heading",
     "level": 3,
     "metadata": {},
     "source": [
      "http://localhost:3000/pages/index"
     ]
    },
    {
     "cell_type": "raw",
     "metadata": {},
     "source": [
      ">>>start [app/views/pages/index.html.erb]\n",
      "Pages#index\n",
      "\n",
      "Find me in app/views/pages/index.html.erb\n",
      "\n",
      ">>>end [app/views/pages/index.html.erb]"
     ]
    },
    {
     "cell_type": "heading",
     "level": 2,
     "metadata": {},
     "source": [
      "Add information in pages controller and the index page"
     ]
    },
    {
     "cell_type": "heading",
     "level": 3,
     "metadata": {},
     "source": [
      "app/controllers/pages_controller.rb"
     ]
    },
    {
     "cell_type": "raw",
     "metadata": {},
     "source": [
      "class PagesController < ApplicationController\n",
      "  def index\n",
      "    @notice = \"This came from the pages controller pages_controller.rb\"\n",
      "  end\n",
      "\n",
      "  def about\n",
      "  end\n",
      "end"
     ]
    },
    {
     "cell_type": "heading",
     "level": 3,
     "metadata": {},
     "source": [
      "app/views/pages/index.html.erb"
     ]
    },
    {
     "cell_type": "raw",
     "metadata": {},
     "source": [
      "<pre>>>>start [app/views/pages/index.html.erb]</pre>\n",
      "<h1>Pages#index</h1>\n",
      "<p>Find me in app/views/pages/index.html.erb</p>\n",
      "<p><%= @notice %></p>\n",
      "<pre>>>>end [app/views/pages/index.html.erb]</pre>"
     ]
    },
    {
     "cell_type": "heading",
     "level": 3,
     "metadata": {},
     "source": [
      "restart rails server"
     ]
    },
    {
     "cell_type": "heading",
     "level": 3,
     "metadata": {},
     "source": [
      "http://localhost:3000/pages/index"
     ]
    },
    {
     "cell_type": "raw",
     "metadata": {},
     "source": [
      ">>>start [app/views/pages/index.html.erb]\n",
      "Pages#index\n",
      "\n",
      "Find me in app/views/pages/index.html.erb\n",
      "\n",
      "This came from the pages controller pages_controller.rb\n",
      "\n",
      ">>>end [app/views/pages/index.html.erb]"
     ]
    },
    {
     "cell_type": "heading",
     "level": 2,
     "metadata": {},
     "source": [
      "Layouts"
     ]
    },
    {
     "cell_type": "heading",
     "level": 3,
     "metadata": {},
     "source": [
      "Modify layout for pages served by pages controller"
     ]
    },
    {
     "cell_type": "heading",
     "level": 3,
     "metadata": {},
     "source": [
      "app/views/layouts/pages.html.erb [Note: pages is the name of the controller]"
     ]
    },
    {
     "cell_type": "raw",
     "metadata": {},
     "source": [
      "<!DOCTYPE html>\n",
      "<html>\n",
      "<head>\n",
      "  <title>Training</title>\n",
      "  <%= stylesheet_link_tag    \"application\", :media => \"all\", \"data-turbolinks-track\" => true %>\n",
      "  <%= javascript_include_tag \"application\", \"data-turbolinks-track\" => true %>\n",
      "  <%= csrf_meta_tags %>\n",
      "</head>\n",
      "<body>\n",
      "    <div style=\"width: 950px; margin: 0px auto;\">\n",
      "        <h2>This is the layout for the pages controller</h2>\n",
      "        <%= yield %>\n",
      "    </div>\n",
      "</body>\n",
      "</html>"
     ]
    },
    {
     "cell_type": "heading",
     "level": 3,
     "metadata": {},
     "source": [
      "http://localhost:3000/pages/index"
     ]
    },
    {
     "cell_type": "raw",
     "metadata": {},
     "source": [
      "This is the layout for the pages controller\n",
      "\n",
      ">>>start [app/views/pages/index.html.erb]\n",
      "Pages#index\n",
      "\n",
      "Find me in app/views/pages/index.html.erb\n",
      "\n",
      "This came from the pages controller pages_controller.rb\n",
      "\n",
      ">>>end [app/views/pages/index.html.erb]"
     ]
    },
    {
     "cell_type": "heading",
     "level": 2,
     "metadata": {},
     "source": [
      "Template data (yield)"
     ]
    },
    {
     "cell_type": "heading",
     "level": 3,
     "metadata": {},
     "source": [
      "app/views/layouts/pages.html.erb"
     ]
    },
    {
     "cell_type": "raw",
     "metadata": {},
     "source": [
      "<!DOCTYPE html>\n",
      "<html>\n",
      "<head>\n",
      "  <title>Training</title>\n",
      "  <%= stylesheet_link_tag    \"application\", :media => \"all\", \"data-turbolinks-track\" => true %>\n",
      "  <%= javascript_include_tag \"application\", \"data-turbolinks-track\" => true %>\n",
      "  <%= csrf_meta_tags %>\n",
      "</head>\n",
      "<body>\n",
      "    <div style=\"width: 950px; margin: 0px auto;\">\n",
      "        <h2>This is the layout for the pages controller</h2>\n",
      "        <%= yield %>\n",
      "        <br>\n",
      "        <%= yield :note%>\n",
      "    </div>\n",
      "</body>\n",
      "</html>"
     ]
    },
    {
     "cell_type": "heading",
     "level": 3,
     "metadata": {},
     "source": [
      "app/views/pages/index.html.erb"
     ]
    },
    {
     "cell_type": "raw",
     "metadata": {},
     "source": [
      "<pre>>>>start [app/views/pages/index.html.erb]</pre>\n",
      "<h1>Pages#index</h1>\n",
      "<p>Find me in app/views/pages/index.html.erb</p>\n",
      "<p><%= @notice %></p>\n",
      "<% content_for(:note) do %>\n",
      "    <p>This could be different for each view.</p>\n",
      "<% end %>\n",
      "<pre>>>>end [app/views/pages/index.html.erb]</pre>"
     ]
    },
    {
     "cell_type": "heading",
     "level": 3,
     "metadata": {},
     "source": [
      "app/views/layouts/pages.html.erb"
     ]
    },
    {
     "cell_type": "raw",
     "metadata": {},
     "source": [
      "<!DOCTYPE html>\n",
      "<html>\n",
      "<head>\n",
      "  <title>Training</title>\n",
      "  <%= stylesheet_link_tag    \"application\", :media => \"all\", \"data-turbolinks-track\" => true %>\n",
      "  <%= javascript_include_tag \"application\", \"data-turbolinks-track\" => true %>\n",
      "  <%= csrf_meta_tags %>\n",
      "</head>\n",
      "<body>\n",
      "    <div style=\"width: 950px; margin: 0px auto;\">\n",
      "        <h2>This is the layout for the pages controller</h2>\n",
      "        <%= yield %>\n",
      "        <br>\n",
      "        <%= yield :note%>\n",
      "    </div>\n",
      "</body>\n",
      "</html>"
     ]
    },
    {
     "cell_type": "heading",
     "level": 2,
     "metadata": {},
     "source": [
      "Setting the default page"
     ]
    },
    {
     "cell_type": "heading",
     "level": 3,
     "metadata": {},
     "source": [
      "config/routes.rb"
     ]
    },
    {
     "cell_type": "markdown",
     "metadata": {},
     "source": [
      "Add\n",
      "\n",
      "    get \"about\", :to => 'pages#about'\n",
      "    root :to => 'pages#index'\n",
      "    \n",
      "after\n",
      "\n",
      "    get \"pages/index\"\n",
      "    \n",
      "As a result, http://localhost;3000 is equivalent to http://localhost:3000/pages/index and http://localhost:3000/about is equivalent to heep://localhost:3000/pages/about\n"
     ]
    },
    {
     "cell_type": "heading",
     "level": 3,
     "metadata": {},
     "source": [
      "A loop technique to define all pages in config/routes.rb"
     ]
    },
    {
     "cell_type": "raw",
     "metadata": {},
     "source": [
      "get \"pages/index\"\n",
      " root :to => 'pages#index'\n",
      "%w[about contact cv].each do |page|\n",
      "  get page, controller: \"pages\", action: page\n",
      "end"
     ]
    },
    {
     "cell_type": "heading",
     "level": 2,
     "metadata": {},
     "source": [
      "Linking pages"
     ]
    },
    {
     "cell_type": "heading",
     "level": 3,
     "metadata": {},
     "source": [
      "add in app/views/pages/index.html.erb"
     ]
    },
    {
     "cell_type": "raw",
     "metadata": {},
     "source": [
      "<p><%= link_to \"About this site\", '/about' %></p>"
     ]
    },
    {
     "cell_type": "heading",
     "level": 3,
     "metadata": {},
     "source": [
      "http://localhost:3000"
     ]
    },
    {
     "cell_type": "raw",
     "metadata": {},
     "source": [
      "This is the layout for the pages controller\n",
      "\n",
      ">>>start [app/views/pages/index.html.erb]\n",
      "Pages#index\n",
      "\n",
      "Find me in app/views/pages/index.html.erb\n",
      "\n",
      "This came from the pages controller pages_controller.rb\n",
      "\n",
      "About this site\n",
      "\n",
      ">>>end [app/views/pages/index.html.erb]\n",
      "\n",
      "This could be different for each view."
     ]
    },
    {
     "cell_type": "heading",
     "level": 2,
     "metadata": {},
     "source": [
      "Some styling (with Sass)"
     ]
    },
    {
     "cell_type": "markdown",
     "metadata": {},
     "source": [
      "For each controller, there is a css page defined at <pre>app/assets/stylesheets/pages.css.scss</pre>"
     ]
    },
    {
     "cell_type": "heading",
     "level": 3,
     "metadata": {},
     "source": [
      "app/assets/stylesheets/pages.css.scss"
     ]
    },
    {
     "cell_type": "raw",
     "metadata": {},
     "source": [
      "// Place all the styles related to the pages controller here.\n",
      "// They will automatically be included in application.css.\n",
      "// You can use Sass (SCSS) here: http://sass-lang.com/\n",
      "body{\n",
      "    font-family: Georgia, Times, \"Times New Roman\", serif;\n",
      "    font-size: 1.2em;\n",
      "}"
     ]
    },
    {
     "cell_type": "heading",
     "level": 2,
     "metadata": {},
     "source": [
      "Scaffolding"
     ]
    },
    {
     "cell_type": "markdown",
     "metadata": {},
     "source": [
      "Let you quickly create a resource that interacts with the database by passing the field names that you want. We don't emply scaffolding like this in a production app.\n",
      "<strong><pre>\n",
      "    rails g scaffold Post title:string blurb:string body:text\n",
      "</strong></pre>"
     ]
    },
    {
     "cell_type": "raw",
     "metadata": {},
     "source": [
      "      invoke  active_record\n",
      "      create    db/migrate/20130915142217_create_posts.rb\n",
      "      create    app/models/post.rb\n",
      "      invoke    test_unit\n",
      "      create      test/models/post_test.rb\n",
      "      create      test/fixtures/posts.yml\n",
      "      invoke  resource_route\n",
      "       route    resources :posts\n",
      "      invoke  scaffold_controller\n",
      "      create    app/controllers/posts_controller.rb\n",
      "      invoke    erb\n",
      "      create      app/views/posts\n",
      "      create      app/views/posts/index.html.erb\n",
      "      create      app/views/posts/edit.html.erb\n",
      "      create      app/views/posts/show.html.erb\n",
      "      create      app/views/posts/new.html.erb\n",
      "      create      app/views/posts/_form.html.erb\n",
      "      invoke    test_unit\n",
      "      create      test/controllers/posts_controller_test.rb\n",
      "      invoke    helper\n",
      "      create      app/helpers/posts_helper.rb\n",
      "      invoke      test_unit\n",
      "      create        test/helpers/posts_helper_test.rb\n",
      "      invoke    jbuilder\n",
      "      create      app/views/posts/index.json.jbuilder\n",
      "      create      app/views/posts/show.json.jbuilder\n",
      "      invoke  assets\n",
      "      invoke    coffee\n",
      "      create      app/assets/javascripts/posts.js.coffee\n",
      "      invoke    scss\n",
      "      create      app/assets/stylesheets/posts.css.scss\n",
      "      invoke  scss\n",
      "      create    app/assets/stylesheets/scaffolds.css.scss\n",
      "quan@quan-VirtualBox:~/rails_projects/training$"
     ]
    },
    {
     "cell_type": "markdown",
     "metadata": {},
     "source": [
      "Rails will create a controller, model and assortment of views and add resources :posts to the confif/routes.rb file."
     ]
    },
    {
     "cell_type": "code",
     "collapsed": false,
     "input": [
      "!tree "
     ],
     "language": "python",
     "metadata": {},
     "outputs": [
      {
       "output_type": "stream",
       "stream": "stdout",
       "text": [
        "\u001b[01;34m.\u001b[00m\r\n",
        "\u251c\u2500\u2500 \u001b[01;34mapp\u001b[00m\r\n",
        "\u2502\u00a0\u00a0 \u251c\u2500\u2500 \u001b[01;34massets\u001b[00m\r\n",
        "\u2502\u00a0\u00a0 \u2502\u00a0\u00a0 \u251c\u2500\u2500 \u001b[01;34mimages\u001b[00m\r\n",
        "\u2502\u00a0\u00a0 \u2502\u00a0\u00a0 \u251c\u2500\u2500 \u001b[01;34mjavascripts\u001b[00m\r\n",
        "\u2502\u00a0\u00a0 \u2502\u00a0\u00a0 \u2502\u00a0\u00a0 \u251c\u2500\u2500 application.js\r\n",
        "\u2502\u00a0\u00a0 \u2502\u00a0\u00a0 \u2502\u00a0\u00a0 \u251c\u2500\u2500 pages.js.coffee\r\n",
        "\u2502\u00a0\u00a0 \u2502\u00a0\u00a0 \u2502\u00a0\u00a0 \u2514\u2500\u2500 posts.js.coffee\r\n",
        "\u2502\u00a0\u00a0 \u2502\u00a0\u00a0 \u2514\u2500\u2500 \u001b[01;34mstylesheets\u001b[00m\r\n",
        "\u2502\u00a0\u00a0 \u2502\u00a0\u00a0     \u251c\u2500\u2500 application.css\r\n",
        "\u2502\u00a0\u00a0 \u2502\u00a0\u00a0     \u251c\u2500\u2500 pages.css.scss\r\n",
        "\u2502\u00a0\u00a0 \u2502\u00a0\u00a0     \u251c\u2500\u2500 posts.css.scss\r\n",
        "\u2502\u00a0\u00a0 \u2502\u00a0\u00a0     \u2514\u2500\u2500 scaffolds.css.scss\r\n",
        "\u2502\u00a0\u00a0 \u251c\u2500\u2500 \u001b[01;34mcontrollers\u001b[00m\r\n",
        "\u2502\u00a0\u00a0 \u2502\u00a0\u00a0 \u251c\u2500\u2500 application_controller.rb\r\n",
        "\u2502\u00a0\u00a0 \u2502\u00a0\u00a0 \u251c\u2500\u2500 \u001b[01;34mconcerns\u001b[00m\r\n",
        "\u2502\u00a0\u00a0 \u2502\u00a0\u00a0 \u251c\u2500\u2500 pages_controller.rb\r\n",
        "\u2502\u00a0\u00a0 \u2502\u00a0\u00a0 \u2514\u2500\u2500 posts_controller.rb\r\n",
        "\u2502\u00a0\u00a0 \u251c\u2500\u2500 \u001b[01;34mhelpers\u001b[00m\r\n",
        "\u2502\u00a0\u00a0 \u2502\u00a0\u00a0 \u251c\u2500\u2500 application_helper.rb\r\n",
        "\u2502\u00a0\u00a0 \u2502\u00a0\u00a0 \u251c\u2500\u2500 pages_helper.rb\r\n",
        "\u2502\u00a0\u00a0 \u2502\u00a0\u00a0 \u2514\u2500\u2500 posts_helper.rb\r\n",
        "\u2502\u00a0\u00a0 \u251c\u2500\u2500 \u001b[01;34mmailers\u001b[00m\r\n",
        "\u2502\u00a0\u00a0 \u251c\u2500\u2500 \u001b[01;34mmodels\u001b[00m\r\n",
        "\u2502\u00a0\u00a0 \u2502\u00a0\u00a0 \u251c\u2500\u2500 \u001b[01;34mconcerns\u001b[00m\r\n",
        "\u2502\u00a0\u00a0 \u2502\u00a0\u00a0 \u2514\u2500\u2500 post.rb\r\n",
        "\u2502\u00a0\u00a0 \u2514\u2500\u2500 \u001b[01;34mviews\u001b[00m\r\n",
        "\u2502\u00a0\u00a0     \u251c\u2500\u2500 \u001b[01;34mlayouts\u001b[00m\r\n",
        "\u2502\u00a0\u00a0     \u2502\u00a0\u00a0 \u251c\u2500\u2500 application.html.erb\r\n",
        "\u2502\u00a0\u00a0     \u2502\u00a0\u00a0 \u2514\u2500\u2500 pages.html.erb\r\n",
        "\u2502\u00a0\u00a0     \u251c\u2500\u2500 \u001b[01;34mpages\u001b[00m\r\n",
        "\u2502\u00a0\u00a0     \u2502\u00a0\u00a0 \u251c\u2500\u2500 about.html.erb\r\n",
        "\u2502\u00a0\u00a0     \u2502\u00a0\u00a0 \u2514\u2500\u2500 index.html.erb\r\n",
        "\u2502\u00a0\u00a0     \u2514\u2500\u2500 \u001b[01;34mposts\u001b[00m\r\n",
        "\u2502\u00a0\u00a0         \u251c\u2500\u2500 edit.html.erb\r\n",
        "\u2502\u00a0\u00a0         \u251c\u2500\u2500 _form.html.erb\r\n",
        "\u2502\u00a0\u00a0         \u251c\u2500\u2500 index.html.erb\r\n",
        "\u2502\u00a0\u00a0         \u251c\u2500\u2500 index.json.jbuilder\r\n",
        "\u2502\u00a0\u00a0         \u251c\u2500\u2500 new.html.erb\r\n",
        "\u2502\u00a0\u00a0         \u251c\u2500\u2500 show.html.erb\r\n",
        "\u2502\u00a0\u00a0         \u2514\u2500\u2500 show.json.jbuilder\r\n",
        "\u251c\u2500\u2500 \u001b[01;34mbin\u001b[00m\r\n",
        "\u2502\u00a0\u00a0 \u251c\u2500\u2500 \u001b[01;32mbundle\u001b[00m\r\n",
        "\u2502\u00a0\u00a0 \u251c\u2500\u2500 \u001b[01;32mrails\u001b[00m\r\n",
        "\u2502\u00a0\u00a0 \u2514\u2500\u2500 \u001b[01;32mrake\u001b[00m\r\n",
        "\u251c\u2500\u2500 \u001b[01;34mconfig\u001b[00m\r\n",
        "\u2502\u00a0\u00a0 \u251c\u2500\u2500 application.rb\r\n",
        "\u2502\u00a0\u00a0 \u251c\u2500\u2500 boot.rb\r\n",
        "\u2502\u00a0\u00a0 \u251c\u2500\u2500 database.yml\r\n",
        "\u2502\u00a0\u00a0 \u251c\u2500\u2500 environment.rb\r\n",
        "\u2502\u00a0\u00a0 \u251c\u2500\u2500 \u001b[01;34menvironments\u001b[00m\r\n",
        "\u2502\u00a0\u00a0 \u2502\u00a0\u00a0 \u251c\u2500\u2500 development.rb\r\n",
        "\u2502\u00a0\u00a0 \u2502\u00a0\u00a0 \u251c\u2500\u2500 production.rb\r\n",
        "\u2502\u00a0\u00a0 \u2502\u00a0\u00a0 \u2514\u2500\u2500 test.rb\r\n",
        "\u2502\u00a0\u00a0 \u251c\u2500\u2500 \u001b[01;34minitializers\u001b[00m\r\n",
        "\u2502\u00a0\u00a0 \u2502\u00a0\u00a0 \u251c\u2500\u2500 backtrace_silencers.rb\r\n",
        "\u2502\u00a0\u00a0 \u2502\u00a0\u00a0 \u251c\u2500\u2500 filter_parameter_logging.rb\r\n",
        "\u2502\u00a0\u00a0 \u2502\u00a0\u00a0 \u251c\u2500\u2500 inflections.rb\r\n",
        "\u2502\u00a0\u00a0 \u2502\u00a0\u00a0 \u251c\u2500\u2500 mime_types.rb\r\n",
        "\u2502\u00a0\u00a0 \u2502\u00a0\u00a0 \u251c\u2500\u2500 secret_token.rb\r\n",
        "\u2502\u00a0\u00a0 \u2502\u00a0\u00a0 \u251c\u2500\u2500 session_store.rb\r\n",
        "\u2502\u00a0\u00a0 \u2502\u00a0\u00a0 \u2514\u2500\u2500 wrap_parameters.rb\r\n",
        "\u2502\u00a0\u00a0 \u251c\u2500\u2500 \u001b[01;34mlocales\u001b[00m\r\n",
        "\u2502\u00a0\u00a0 \u2502\u00a0\u00a0 \u2514\u2500\u2500 en.yml\r\n",
        "\u2502\u00a0\u00a0 \u2514\u2500\u2500 routes.rb\r\n",
        "\u251c\u2500\u2500 config.ru\r\n",
        "\u251c\u2500\u2500 \u001b[01;34mdb\u001b[00m\r\n",
        "\u2502\u00a0\u00a0 \u251c\u2500\u2500 development.sqlite3\r\n",
        "\u2502\u00a0\u00a0 \u251c\u2500\u2500 \u001b[01;34mmigrate\u001b[00m\r\n",
        "\u2502\u00a0\u00a0 \u2502\u00a0\u00a0 \u2514\u2500\u2500 20130915142217_create_posts.rb\r\n",
        "\u2502\u00a0\u00a0 \u2514\u2500\u2500 seeds.rb\r\n",
        "\u251c\u2500\u2500 Gemfile\r\n",
        "\u251c\u2500\u2500 Gemfile.lock\r\n",
        "\u251c\u2500\u2500 \u001b[01;34mlib\u001b[00m\r\n",
        "\u2502\u00a0\u00a0 \u251c\u2500\u2500 \u001b[01;34massets\u001b[00m\r\n",
        "\u2502\u00a0\u00a0 \u2514\u2500\u2500 \u001b[01;34mtasks\u001b[00m\r\n",
        "\u251c\u2500\u2500 \u001b[01;34mlog\u001b[00m\r\n",
        "\u2502\u00a0\u00a0 \u2514\u2500\u2500 development.log\r\n",
        "\u251c\u2500\u2500 \u001b[01;34mpublic\u001b[00m\r\n",
        "\u2502\u00a0\u00a0 \u251c\u2500\u2500 404.html\r\n",
        "\u2502\u00a0\u00a0 \u251c\u2500\u2500 422.html\r\n",
        "\u2502\u00a0\u00a0 \u251c\u2500\u2500 500.html\r\n",
        "\u2502\u00a0\u00a0 \u251c\u2500\u2500 favicon.ico\r\n",
        "\u2502\u00a0\u00a0 \u2514\u2500\u2500 robots.txt\r\n",
        "\u251c\u2500\u2500 Rakefile\r\n",
        "\u251c\u2500\u2500 README.rdoc\r\n",
        "\u251c\u2500\u2500 \u001b[01;34mtest\u001b[00m\r\n",
        "\u2502\u00a0\u00a0 \u251c\u2500\u2500 \u001b[01;34mcontrollers\u001b[00m\r\n",
        "\u2502\u00a0\u00a0 \u2502\u00a0\u00a0 \u251c\u2500\u2500 pages_controller_test.rb\r\n",
        "\u2502\u00a0\u00a0 \u2502\u00a0\u00a0 \u2514\u2500\u2500 posts_controller_test.rb\r\n",
        "\u2502\u00a0\u00a0 \u251c\u2500\u2500 \u001b[01;34mfixtures\u001b[00m\r\n",
        "\u2502\u00a0\u00a0 \u2502\u00a0\u00a0 \u2514\u2500\u2500 posts.yml\r\n",
        "\u2502\u00a0\u00a0 \u251c\u2500\u2500 \u001b[01;34mhelpers\u001b[00m\r\n",
        "\u2502\u00a0\u00a0 \u2502\u00a0\u00a0 \u251c\u2500\u2500 pages_helper_test.rb\r\n",
        "\u2502\u00a0\u00a0 \u2502\u00a0\u00a0 \u2514\u2500\u2500 posts_helper_test.rb\r\n",
        "\u2502\u00a0\u00a0 \u251c\u2500\u2500 \u001b[01;34mintegration\u001b[00m\r\n",
        "\u2502\u00a0\u00a0 \u251c\u2500\u2500 \u001b[01;34mmailers\u001b[00m\r\n",
        "\u2502\u00a0\u00a0 \u251c\u2500\u2500 \u001b[01;34mmodels\u001b[00m\r\n",
        "\u2502\u00a0\u00a0 \u2502\u00a0\u00a0 \u2514\u2500\u2500 post_test.rb\r\n",
        "\u2502\u00a0\u00a0 \u2514\u2500\u2500 test_helper.rb\r\n",
        "\u251c\u2500\u2500 \u001b[01;34mtmp\u001b[00m\r\n",
        "\u2502\u00a0\u00a0 \u251c\u2500\u2500 \u001b[01;34mcache\u001b[00m\r\n",
        "\u2502\u00a0\u00a0 \u2502\u00a0\u00a0 \u2514\u2500\u2500 \u001b[01;34massets\u001b[00m\r\n",
        "\u2502\u00a0\u00a0 \u2502\u00a0\u00a0     \u2514\u2500\u2500 \u001b[01;34mdevelopment\u001b[00m\r\n",
        "\u2502\u00a0\u00a0 \u2502\u00a0\u00a0         \u251c\u2500\u2500 \u001b[01;34msass\u001b[00m\r\n",
        "\u2502\u00a0\u00a0 \u2502\u00a0\u00a0         \u2502\u00a0\u00a0 \u2514\u2500\u2500 \u001b[01;34mb37daa882a485888452897dca297bcb1f3aae500\u001b[00m\r\n",
        "\u2502\u00a0\u00a0 \u2502\u00a0\u00a0         \u2502\u00a0\u00a0     \u2514\u2500\u2500 pages.css.scssc\r\n",
        "\u2502\u00a0\u00a0 \u2502\u00a0\u00a0         \u2514\u2500\u2500 \u001b[01;34msprockets\u001b[00m\r\n",
        "\u2502\u00a0\u00a0 \u2502\u00a0\u00a0             \u251c\u2500\u2500 08e62d82dd4e95d05443ab7e22833386\r\n",
        "\u2502\u00a0\u00a0 \u2502\u00a0\u00a0             \u251c\u2500\u2500 13fe41fee1fe35b49d145bcc06610705\r\n",
        "\u2502\u00a0\u00a0 \u2502\u00a0\u00a0             \u251c\u2500\u2500 1587fdfb14ce845c909b6f8782d557d9\r\n",
        "\u2502\u00a0\u00a0 \u2502\u00a0\u00a0             \u251c\u2500\u2500 1ba2331aab000dc355521d376087bf32\r\n",
        "\u2502\u00a0\u00a0 \u2502\u00a0\u00a0             \u251c\u2500\u2500 2f5173deea6c795b8fdde723bb4b63af\r\n",
        "\u2502\u00a0\u00a0 \u2502\u00a0\u00a0             \u251c\u2500\u2500 357970feca3ac29060c1e3861e2c0953\r\n",
        "\u2502\u00a0\u00a0 \u2502\u00a0\u00a0             \u251c\u2500\u2500 388cba9bb9ec44d6434e649e27f6b7fa\r\n",
        "\u2502\u00a0\u00a0 \u2502\u00a0\u00a0             \u251c\u2500\u2500 58d13fa8238ddbe40924e2b2b8e2b892\r\n",
        "\u2502\u00a0\u00a0 \u2502\u00a0\u00a0             \u251c\u2500\u2500 6e8b90fe917f3c09b3e47a5741467270\r\n",
        "\u2502\u00a0\u00a0 \u2502\u00a0\u00a0             \u251c\u2500\u2500 7d9f341d05c32de3016eee391bb575f7\r\n",
        "\u2502\u00a0\u00a0 \u2502\u00a0\u00a0             \u251c\u2500\u2500 8d467b2390a5eab42a9d2d3d89792e32\r\n",
        "\u2502\u00a0\u00a0 \u2502\u00a0\u00a0             \u251c\u2500\u2500 8f2511830f6e103d24928dac99a5cf5a\r\n",
        "\u2502\u00a0\u00a0 \u2502\u00a0\u00a0             \u251c\u2500\u2500 a16a492de872b0859258d14bf4e2059e\r\n",
        "\u2502\u00a0\u00a0 \u2502\u00a0\u00a0             \u251c\u2500\u2500 b7cf1ee5c56fa85d2cf039f2541df071\r\n",
        "\u2502\u00a0\u00a0 \u2502\u00a0\u00a0             \u251c\u2500\u2500 bc386fe2273d996e0e2474d471ab61b5\r\n",
        "\u2502\u00a0\u00a0 \u2502\u00a0\u00a0             \u251c\u2500\u2500 bfa39479aa50b9a89eb5957d475da926\r\n",
        "\u2502\u00a0\u00a0 \u2502\u00a0\u00a0             \u251c\u2500\u2500 c9cf8ec449d512886db28dbd46e7e54f\r\n",
        "\u2502\u00a0\u00a0 \u2502\u00a0\u00a0             \u251c\u2500\u2500 cffd775d018f68ce5dba1ee0d951a994\r\n",
        "\u2502\u00a0\u00a0 \u2502\u00a0\u00a0             \u251c\u2500\u2500 d771ace226fc8215a3572e0aa35bb0d6\r\n",
        "\u2502\u00a0\u00a0 \u2502\u00a0\u00a0             \u251c\u2500\u2500 f5f738b65b700d4d150982435be7b758\r\n",
        "\u2502\u00a0\u00a0 \u2502\u00a0\u00a0             \u2514\u2500\u2500 f7cbd26ba1d28d48de824f0e94586655\r\n",
        "\u2502\u00a0\u00a0 \u251c\u2500\u2500 \u001b[01;34mpids\u001b[00m\r\n",
        "\u2502\u00a0\u00a0 \u2502\u00a0\u00a0 \u2514\u2500\u2500 server.pid\r\n",
        "\u2502\u00a0\u00a0 \u251c\u2500\u2500 \u001b[01;34msessions\u001b[00m\r\n",
        "\u2502\u00a0\u00a0 \u2514\u2500\u2500 \u001b[01;34msockets\u001b[00m\r\n",
        "\u2514\u2500\u2500 \u001b[01;34mvendor\u001b[00m\r\n",
        "    \u2514\u2500\u2500 \u001b[01;34massets\u001b[00m\r\n",
        "        \u251c\u2500\u2500 \u001b[01;34mjavascripts\u001b[00m\r\n",
        "        \u2514\u2500\u2500 \u001b[01;34mstylesheets\u001b[00m\r\n",
        "\r\n",
        "48 directories, 88 files\r\n"
       ]
      }
     ],
     "prompt_number": 18
    },
    {
     "cell_type": "markdown",
     "metadata": {},
     "source": [
      "The next thing is to migrate the database."
     ]
    },
    {
     "cell_type": "heading",
     "level": 3,
     "metadata": {},
     "source": [
      "Migrate the database with \"rake\""
     ]
    },
    {
     "cell_type": "markdown",
     "metadata": {},
     "source": [
      "<strong><pre>\n",
      "rake db:migrate\n",
      "</pre></strong>"
     ]
    },
    {
     "cell_type": "raw",
     "metadata": {},
     "source": [
      "==  CreatePosts: migrating ====================================================\n",
      "-- create_table(:posts)\n",
      "   -> 0.0013s\n",
      "==  CreatePosts: migrated (0.0015s) ==========================================="
     ]
    },
    {
     "cell_type": "heading",
     "level": 3,
     "metadata": {},
     "source": [
      "config/database.yml"
     ]
    },
    {
     "cell_type": "raw",
     "metadata": {},
     "source": [
      "# SQLite version 3.x\n",
      "#   gem install sqlite3\n",
      "#\n",
      "#   Ensure the SQLite 3 gem is defined in your Gemfile\n",
      "#   gem 'sqlite3'\n",
      "development:\n",
      "  adapter: sqlite3\n",
      "  database: db/development.sqlite3\n",
      "  pool: 5\n",
      "  timeout: 5000\n",
      "\n",
      "# Warning: The database defined as \"test\" will be erased and\n",
      "# re-generated from your development database when you run \"rake\".\n",
      "# Do not set this db to the same as development or production.\n",
      "test:\n",
      "  adapter: sqlite3\n",
      "  database: db/test.sqlite3\n",
      "  pool: 5\n",
      "  timeout: 5000\n",
      "\n",
      "production:\n",
      "  adapter: sqlite3\n",
      "  database: db/production.sqlite3\n",
      "  pool: 5\n",
      "  timeout: 5000"
     ]
    },
    {
     "cell_type": "heading",
     "level": 3,
     "metadata": {},
     "source": [
      "http://localhost:3000/posts"
     ]
    },
    {
     "cell_type": "raw",
     "metadata": {},
     "source": [
      "Listing posts\n",
      "\n",
      "Title\tBlurb\tBody\t\t\t\n",
      "New Post"
     ]
    },
    {
     "cell_type": "heading",
     "level": 3,
     "metadata": {},
     "source": [
      "app/controllers/post_controller.rb"
     ]
    },
    {
     "cell_type": "raw",
     "metadata": {},
     "source": [
      "Already populated for the index, show, new, edit, create, update and delete actions\n",
      "\n",
      "class PostsController < ApplicationController\n",
      "  before_action :set_post, only: [:show, :edit, :update, :destroy]\n",
      "\n",
      "  # GET /posts\n",
      "  # GET /posts.json\n",
      "  def index\n",
      "    @posts = Post.all\n",
      "  end\n",
      "\n",
      "  # GET /posts/1\n",
      "  # GET /posts/1.json\n",
      "  def show\n",
      "  end\n",
      "\n",
      "  # GET /posts/new\n",
      "  def new\n",
      "    @post = Post.new\n",
      "  end\n",
      "\n",
      "  # GET /posts/1/edit\n",
      "  def edit\n",
      "  end\n",
      "\n",
      "  # POST /posts\n",
      "  # POST /posts.json\n",
      "  def create\n",
      "    @post = Post.new(post_params)\n",
      "\n",
      "    respond_to do |format|\n",
      "      if @post.save\n",
      "        format.html { redirect_to @post, notice: 'Post was successfully created.' }\n",
      "        format.json { render action: 'show', status: :created, location: @post }\n",
      "      else\n",
      "        format.html { render action: 'new' }\n",
      "        format.json { render json: @post.errors, status: :unprocessable_entity }\n",
      "      end\n",
      "    end\n",
      "  end\n",
      "\n",
      "  # PATCH/PUT /posts/1\n",
      "  # PATCH/PUT /posts/1.json\n",
      "  def update\n",
      "    respond_to do |format|\n",
      "      if @post.update(post_params)\n",
      "        format.html { redirect_to @post, notice: 'Post was successfully updated.' }\n",
      "        format.json { head :no_content }\n",
      "      else\n",
      "        format.html { render action: 'edit' }\n",
      "        format.json { render json: @post.errors, status: :unprocessable_entity }\n",
      "      end\n",
      "    end\n",
      "  end\n",
      "\n",
      "  # DELETE /posts/1\n",
      "  # DELETE /posts/1.json\n",
      "  def destroy\n",
      "    @post.destroy\n",
      "    respond_to do |format|\n",
      "      format.html { redirect_to posts_url }\n",
      "      format.json { head :no_content }\n",
      "    end\n",
      "  end\n",
      "\n",
      "  private\n",
      "    # Use callbacks to share common setup or constraints between actions.\n",
      "    def set_post\n",
      "      @post = Post.find(params[:id])\n",
      "    end\n",
      "\n",
      "    # Never trust parameters from the scary internet, only allow the white list through.\n",
      "    def post_params\n",
      "      params.require(:post).permit(:title, :blurb, :body)\n",
      "    end\n",
      "end\n"
     ]
    },
    {
     "cell_type": "heading",
     "level": 2,
     "metadata": {},
     "source": [
      "Active Record Validations"
     ]
    },
    {
     "cell_type": "heading",
     "level": 3,
     "metadata": {},
     "source": [
      "app/models/post.rb"
     ]
    },
    {
     "cell_type": "raw",
     "metadata": {},
     "source": [
      "class Post < ActiveRecord::Base\n",
      "    # attr_accessible :title, :slug, :blurb, :content\n",
      "    # it seems that Rails 4 does not support attr_accessible anymore\n",
      "    \n",
      "    #validates :blurb, :length => { :minimum => 10 }\n",
      "    # validates :blurb. lemgth => { :in => 10..255 }\n",
      "    validates :blurb, :length => { :in => 10..255 }, :format => { \\\n",
      "            :with => /^\\A[a-zA-Z\\d ]+\\z/, \\\n",
      "            :message => \"Only letters allowed\", \\\n",
      "            :multiline => true }\n",
      "    validates :body, :title, :presence => true\n",
      "end "
     ]
    },
    {
     "cell_type": "heading",
     "level": 2,
     "metadata": {},
     "source": [
      "Prepare test data"
     ]
    },
    {
     "cell_type": "markdown",
     "metadata": {},
     "source": [
      "<strong>\n",
      "rake db:test:prepare\n",
      "</strong>"
     ]
    },
    {
     "cell_type": "heading",
     "level": 2,
     "metadata": {},
     "source": [
      "Tests rails already generated"
     ]
    },
    {
     "cell_type": "heading",
     "level": 3,
     "metadata": {},
     "source": [
      "test/controllers/posts_controller_test.rb"
     ]
    },
    {
     "cell_type": "raw",
     "metadata": {},
     "source": [
      "require 'test_helper'\n",
      "\n",
      "class PostsControllerTest < ActionController::TestCase\n",
      "  setup do\n",
      "    @post = posts(:one)\n",
      "  end\n",
      "\n",
      "  test \"should get index\" do\n",
      "    get :index\n",
      "    assert_response :success\n",
      "    assert_not_nil assigns(:posts)\n",
      "  end\n",
      "\n",
      "  test \"should get new\" do\n",
      "    get :new\n",
      "    assert_response :success\n",
      "  end\n",
      "\n",
      "  test \"should create post\" do\n",
      "    assert_difference('Post.count') do\n",
      "      post :create, post: { blurb: @post.blurb, body: @post.body, title: @post.title }\n",
      "    end\n",
      "\n",
      "    assert_redirected_to post_path(assigns(:post))\n",
      "  end\n",
      "\n",
      "  test \"should show post\" do\n",
      "    get :show, id: @post\n",
      "    assert_response :success\n",
      "  end\n",
      "\n",
      "  test \"should get edit\" do\n",
      "    get :edit, id: @post\n",
      "    assert_response :success\n",
      "  end\n",
      "\n",
      "  test \"should update post\" do\n",
      "    patch :update, id: @post, post: { blurb: @post.blurb, body: @post.body, title: @post.title }\n",
      "    assert_redirected_to post_path(assigns(:post))\n",
      "  end\n",
      "\n",
      "  test \"should destroy post\" do\n",
      "    assert_difference('Post.count', -1) do\n",
      "      delete :destroy, id: @post\n",
      "    end\n",
      "\n",
      "    assert_redirected_to posts_path\n",
      "  end\n",
      "end\n"
     ]
    },
    {
     "cell_type": "heading",
     "level": 2,
     "metadata": {},
     "source": [
      "Test fixtures"
     ]
    },
    {
     "cell_type": "heading",
     "level": 3,
     "metadata": {},
     "source": [
      "test/fixtures/post.yml"
     ]
    },
    {
     "cell_type": "markdown",
     "metadata": {},
     "source": [
      "Default:\n",
      "\n",
      "    # Read about fixtures at http://api.rubyonrails.org/classes/ActiveRecord/Fixtures.html\n",
      "    \n",
      "    one:\n",
      "      title: MyString\n",
      "      blurb: MyString\n",
      "      body: MyText\n",
      "    \n",
      "    two:\n",
      "      title: MyString\n",
      "      blurb: MyString\n",
      "      body: MyText\n",
      "      \n",
      "Modified:\n",
      "  \n",
      "    one:\n",
      "      title: The first post\n",
      "      blurb: This post won't be about very much at all.\n",
      "      body: So, here is a meanigless post.\n",
      "    \n",
      "    two:\n",
      "      title: The second post\n",
      "      blurb: There had to be two, didn't there?\n",
      "      body: Yes, yiu guessed it, this is the second post.\n",
      "\n"
     ]
    },
    {
     "cell_type": "heading",
     "level": 2,
     "metadata": {},
     "source": [
      "Unit testing models"
     ]
    },
    {
     "cell_type": "heading",
     "level": 3,
     "metadata": {},
     "source": [
      "test/models/post_test.rb"
     ]
    },
    {
     "cell_type": "markdown",
     "metadata": {},
     "source": [
      "Default:\n",
      "\n",
      "    require 'test_helper'\n",
      "    \n",
      "    class PostTest < ActiveSupport::TestCase\n",
      "      # test \"the truth\" do\n",
      "      #   assert true\n",
      "      # end\n",
      "    end\n",
      "\n",
      "Modified:\n",
      "\n",
      "    require 'test_helper'\n",
      "    \n",
      "    class PostTest < ActiveSupport::TestCase\n",
      "      test \"the truth\" do\n",
      "        assert true\n",
      "      end\n",
      "      test \"post values should not be empty\" do\n",
      "        post = Post.new\n",
      "        assert post.invalid?\n",
      "        assert post.errors[:title].any?\n",
      "        assert post.errors[:blurb].any?\n",
      "        assert post.errors[:body].any?\n",
      "      end\n",
      "      test \"should not save post without title\" do\n",
      "        post = Post.new\n",
      "        assert !post.save\n",
      "      end\n",
      "      test \"blurb should be a string\" do\n",
      "        post = Post.new(title: posts(:one).title, \n",
      "                        blurb: posts(:one).blurb, \n",
      "                        body: \"Body?, Whose?\")\n",
      "        assert post.title.kind_of? String\n",
      "        assert post.blurb.kind_of? String\n",
      "        assert post.body.kind_of?  String\n",
      "      end\n",
      "    end"
     ]
    },
    {
     "cell_type": "markdown",
     "metadata": {},
     "source": [
      "### Unit test and functionals test\n",
      "\n",
      "This will test the test/models/post_test.rb\n",
      "\n",
      "<pre>\n",
      "<strong>\n",
      "rake test or rake test:units\n",
      "<strong>\n",
      "</pre>\n",
      "\n",
      "This will test the controller (functionals)\n",
      "\n",
      "<pre>\n",
      "<strong>\n",
      "rake test:functionals\n",
      "</strong>\n",
      "</pre>\n",
      "    "
     ]
    },
    {
     "cell_type": "heading",
     "level": 3,
     "metadata": {},
     "source": [
      "A few mod to test/controllers/posts_controller.rb"
     ]
    },
    {
     "cell_type": "raw",
     "metadata": {},
     "source": [
      "require 'test_helper'\n",
      "\n",
      "class PostsControllerTest < ActionController::TestCase\n",
      "  setup do\n",
      "    @post = posts(:one)\n",
      "    @update = {\n",
      "      title: 'Here is the title',\n",
      "      blurb: 'Here is the blurb',\n",
      "      body: 'Here is the body'\n",
      "    }\n",
      "  end\n",
      "\n",
      "  test \"should get index\" do\n",
      "    get :index\n",
      "    assert_response :success\n",
      "    assert_not_nil assigns(:posts)\n",
      "  end\n",
      "\n",
      "  test \"should get new\" do\n",
      "    get :new\n",
      "    assert_response :success\n",
      "  end\n",
      "\n",
      "  test \"should create post\" do\n",
      "    assert_difference('Post.count') do\n",
      "      #post :create, post: { blurb: @post.blurb, body: @post.body, title: @post.title }\n",
      "      post :create, post: @update\n",
      "    end\n",
      "\n",
      "    assert_redirected_to post_path(assigns(:post))\n",
      "  end\n",
      "\n",
      "  test \"should show post\" do\n",
      "    get :show, id: @post\n",
      "    assert_response :success\n",
      "  end\n",
      "\n",
      "  test \"should get edit\" do\n",
      "    get :edit, id: @post\n",
      "    assert_response :success\n",
      "  end\n",
      "\n",
      "  test \"should update post\" do\n",
      "    #patch :update, id: @post, post: { blurb: @post.blurb, body: @post.body, title: @post.title }\n",
      "    put :update, id: @post, post: @update\n",
      "    assert_redirected_to post_path(assigns(:post))\n",
      "  end\n",
      "\n",
      "  test \"should destroy post\" do\n",
      "    assert_difference('Post.count', -1) do\n",
      "      delete :destroy, id: @post\n",
      "    end\n",
      "\n",
      "    assert_redirected_to posts_path\n",
      "  end\n",
      "end\n"
     ]
    },
    {
     "cell_type": "heading",
     "level": 2,
     "metadata": {},
     "source": [
      "Creating a layout with Bootstrap"
     ]
    },
    {
     "cell_type": "markdown",
     "metadata": {},
     "source": [
      "Add 'gem <strong>\"bootstrap-sass\"</strong>' to Gemfile and run\n",
      "\n",
      "<pre><strong>\n",
      "bundle install\n",
      "</stong></pre>\n",
      " "
     ]
    },
    {
     "cell_type": "heading",
     "level": 3,
     "metadata": {},
     "source": [
      "Create app/assets/stylesheets/custom.css.scss"
     ]
    },
    {
     "cell_type": "raw",
     "metadata": {},
     "source": [
      "@import \"bootstrap\";\n",
      "@import \"bootstrap-responsive\";\n",
      "body {\n",
      "    padding-top: 60px;\n",
      "    padding-bottom: 40px;\n",
      "}\n",
      ".sidebar-nav {\n",
      "    padding: 9px 0;\n",
      "}"
     ]
    },
    {
     "cell_type": "heading",
     "level": 3,
     "metadata": {},
     "source": [
      "Add to app/assets/javascripts/application.js"
     ]
    },
    {
     "cell_type": "raw",
     "metadata": {},
     "source": [
      "//= require jquery\n",
      "//= require jquery_ujs\n",
      "...\n",
      "//= require_tree .\n",
      "//= require bootstrap"
     ]
    },
    {
     "cell_type": "heading",
     "level": 3,
     "metadata": {},
     "source": [
      "Replace app/views/layouts/page.html.erb"
     ]
    },
    {
     "cell_type": "raw",
     "metadata": {},
     "source": [
      "<!DOCTYPE html>\n",
      "<html>\n",
      "<head>\n",
      "  <meta name=\"viewport\" content=\"width=device-widh, initial-scale=1.0\">\n",
      "  <%= stylesheet_link_tag    \"application\", :media => \"all\", \"data-turbolinks-track\" => true %>\n",
      "  <%= javascript_include_tag \"application\", \"data-turbolinks-track\" => true %>\n",
      "</head>\n",
      "<body>\n",
      "  <div class=\"navbar navbar-inverse navbar-fixed-top\">\n",
      "    <div class=\"navbar-inner\">\n",
      "      <div class=\"container-fluid\">\n",
      "        <a class=\"brand\">Jump Start Rails</a>\n",
      "      </div>\n",
      "    </div>\n",
      "  </div>\n",
      "\n",
      "  <div class=\"container-fluid\">\n",
      "    <div class=\"row-fluid\">\n",
      "      <div class=\"span3\">\n",
      "        <ul class=\"nav nav-list\">\n",
      "          <li class=\"nav-header\">Sidebar</li>\n",
      "          <li class=\"active\"><a href=\"#\">Link</a></li>\n",
      "          <li class=\"nav-header\">Sidebar</li>\n",
      "          <li><a href=\"#\">link</a></li>\n",
      "          <li><a href=\"#\">link</a></li>\n",
      "          <li class=\"nav-header\">Sidebar</li>\n",
      "          <li><a href=\"#\">link</a></li>\n",
      "        </ul>\n",
      "      </div>\n",
      "\n",
      "      <div class=\"span9\">\n",
      "        <%= yield %>\n",
      "      </div>\n",
      "    </div>\n",
      "    <hr/>\n",
      "    <footer></footer>\n",
      "  </div>\n",
      "  \n",
      "</body>\n",
      "</html>"
     ]
    },
    {
     "cell_type": "heading",
     "level": 2,
     "metadata": {},
     "source": [
      "Refining the layout with partials and render"
     ]
    },
    {
     "cell_type": "heading",
     "level": 3,
     "metadata": {},
     "source": [
      "Create app/views/shared folder and the file _menu.html.erb"
     ]
    },
    {
     "cell_type": "raw",
     "metadata": {},
     "source": [
      "<ul class=\"nav nav-list\">\n",
      "  <li class=\"nav-header\">Sidebar</li>\n",
      "  <li class=\"active\"><a href=\"#\">Link</a></li>\n",
      "  <li class=\"nav-header\">Sidebar</li>\n",
      "  <li><a href=\"#\">link</a></li>\n",
      "  <li><a href=\"#\">link</a></li>\n",
      "  <li class=\"nav-header\">Sidebar</li>\n",
      "  <li><a href=\"#\">link</a></li>\n",
      "</ul>"
     ]
    },
    {
     "cell_type": "heading",
     "level": 3,
     "metadata": {},
     "source": [
      "Replace the menu block in app/views/layouts/pages.html.erb"
     ]
    },
    {
     "cell_type": "raw",
     "metadata": {},
     "source": [
      "<%= render \"/shared/menu\" %>"
     ]
    },
    {
     "cell_type": "heading",
     "level": 3,
     "metadata": {},
     "source": [
      "Change config/environments/production,rb"
     ]
    },
    {
     "cell_type": "markdown",
     "metadata": {},
     "source": [
      "    config.assets.compile from false to true"
     ]
    },
    {
     "cell_type": "heading",
     "level": 2,
     "metadata": {},
     "source": [
      "Deploy on heroku"
     ]
    },
    {
     "cell_type": "markdown",
     "metadata": {},
     "source": [
      "Change to Gemfile\n",
      "-----------------\n",
      "* add jquery-turbolinks\n",
      "* change sqlite3 to pg\n",
      "* re-rrun bundle install"
     ]
    },
    {
     "cell_type": "heading",
     "level": 3,
     "metadata": {},
     "source": [
      "change sqlite3 to postgresql in config/database.yml"
     ]
    },
    {
     "cell_type": "raw",
     "metadata": {},
     "source": [
      "# SQLite version 3.x\n",
      "#   gem install sqlite3\n",
      "#\n",
      "#   Ensure the SQLite 3 gem is defined in your Gemfile\n",
      "#   gem 'sqlite3'\n",
      "development:\n",
      "  adapter: postgresql\n",
      "  database: my_database_development\n",
      "  pool: 5\n",
      "  timeout: 5000\n",
      "  username: jumpstartrails\n",
      "  password: postgres\n",
      "  host: localhost\n",
      "\n",
      "# Warning: The database defined as \"test\" will be erased and\n",
      "# re-generated from your development database when you run \"rake\".\n",
      "# Do not set this db to the same as development or production.\n",
      "test:\n",
      "  adapter: postgresql\n",
      "  database: dmy_database_test\n",
      "  pool: 5\n",
      "  timeout: 5000\n",
      "  username: jumpstartrails\n",
      "  password: postgres\n",
      "  host: localhost\n",
      "\n",
      "production:\n",
      "  adapter: postgresql\n",
      "  database: my_datbase_production\n",
      "  pool: 5\n",
      "  timeout: 5000\n"
     ]
    },
    {
     "cell_type": "heading",
     "level": 3,
     "metadata": {},
     "source": [
      "redo rake db:create and rake db:migrate"
     ]
    },
    {
     "cell_type": "markdown",
     "metadata": {},
     "source": [
      "$ heroku run rake db:migrate"
     ]
    }
   ],
   "metadata": {}
  }
 ]
}