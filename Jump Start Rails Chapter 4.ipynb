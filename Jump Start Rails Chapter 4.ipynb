{
 "metadata": {
  "name": ""
 },
 "nbformat": 3,
 "nbformat_minor": 0,
 "worksheets": [
  {
   "cells": [
    {
     "cell_type": "heading",
     "level": 1,
     "metadata": {},
     "source": [
      "Chapter 4: Creating an ActiveAdmin Resource"
     ]
    },
    {
     "cell_type": "raw",
     "metadata": {},
     "source": [
      "Go back to the traing app"
     ]
    },
    {
     "cell_type": "heading",
     "level": 2,
     "metadata": {},
     "source": [
      "Creating the Admin Functionality Manually"
     ]
    },
    {
     "cell_type": "heading",
     "level": 3,
     "metadata": {},
     "source": [
      "rails g model Page title:string slug:string content:text"
     ]
    },
    {
     "cell_type": "raw",
     "metadata": {},
     "source": [
      "      invoke  active_record\n",
      "      create    db/migrate/20130917204253_create_pages.rb\n",
      "      create    app/models/page.rb\n",
      "      invoke    test_unit\n",
      "      create      test/models/page_test.rb\n",
      "      create      test/fixtures/pages.yml"
     ]
    },
    {
     "cell_type": "heading",
     "level": 3,
     "metadata": {},
     "source": [
      "rake db:migrate"
     ]
    },
    {
     "cell_type": "raw",
     "metadata": {},
     "source": [
      "==  CreatePages: migrating ====================================================\n",
      "-- create_table(:pages)\n",
      "   -> 0.0054s\n",
      "==  CreatePages: migrated (0.0055s) ==========================================="
     ]
    },
    {
     "cell_type": "heading",
     "level": 3,
     "metadata": {},
     "source": [
      "add to config/routes.rb"
     ]
    },
    {
     "cell_type": "raw",
     "metadata": {},
     "source": [
      "Training::Application.routes.draw do\n",
      "  resources :posts\n",
      "  resources :pages\n",
      "\n",
      "  get \"pages/index\"\n",
      "  #get \"pages/about\"\n",
      "  #get \"about\", :to => 'pages#about'\n",
      "  root :to => 'pages#index'\n",
      "  %w[about contact cv].each do |page|\n",
      "    get page, controller: \"pages\", action: page\n",
      "  end"
     ]
    },
    {
     "cell_type": "heading",
     "level": 3,
     "metadata": {},
     "source": [
      "app/controllers/pages_controller.rb"
     ]
    },
    {
     "cell_type": "markdown",
     "metadata": {},
     "source": [
      "Add before_action, private and new sections:"
     ]
    },
    {
     "cell_type": "raw",
     "metadata": {},
     "source": [
      "class PagesController < ApplicationController\n",
      "  before_action :set_page, only: [:show, :ediy, :update, :destroy]\n",
      "\n",
      "  def index\n",
      "  \t@notice = \"This came from the pages controller pages_controller.rb\"\n",
      "  end\n",
      "\n",
      "  def about\n",
      "  end\n",
      "\n",
      "  def new\n",
      "  \t@page = Page.new\n",
      "  end\n",
      "\n",
      "  private\n",
      "  \t# Use callbacks to share common setup to constraints between actions.\n",
      "  \tdef set_page\n",
      "  \t\t@page = Page.find(params[:id])\n",
      "  \tend\n",
      "\n",
      "  \t# Never trust parameters from the scary internet, only allow the white list through.\n",
      "  \tdef page_params\n",
      "  \t\tparams.require(:page).permit(:title, :slug, :content)\n",
      "end\n"
     ]
    },
    {
     "cell_type": "heading",
     "level": 3,
     "metadata": {},
     "source": [
      "app/views/pages/new.html.erb"
     ]
    },
    {
     "cell_type": "raw",
     "metadata": {},
     "source": [
      "<%= form_for(@page) do |f| %>\n",
      "\n",
      "  <p>\n",
      "    <%= f.label :title %><br />\n",
      "    <%= f.text_field :title %>\n",
      "  </p>\n",
      "\n",
      "  <p>\n",
      "    <%= f.label :slug %><br />\n",
      "    <%= f.text_field :slug %>\n",
      "  </p>\n",
      "\n",
      "  <p>\n",
      "    <%= f.label :content %><br />\n",
      "    <%= f.text_area :content %>\n",
      "  </p>\n",
      "\n",
      "  <p>\n",
      "    <%= f.submit %>\n",
      "  </p>\n",
      "\n",
      "<% end %>"
     ]
    },
    {
     "cell_type": "heading",
     "level": 3,
     "metadata": {},
     "source": [
      "add to app/controllers/pages_controller.rb"
     ]
    },
    {
     "cell_type": "raw",
     "metadata": {},
     "source": [
      "  def create\n",
      "  \t@page = Page.new(page_params)\n",
      "  \t@page.save\n",
      "  \tredirect_to action: :show, id:, @page.id\n",
      "  end\n",
      "\n",
      "  def show\n",
      "  end"
     ]
    },
    {
     "cell_type": "heading",
     "level": 3,
     "metadata": {},
     "source": [
      "create app/views/show.html.erb"
     ]
    },
    {
     "cell_type": "raw",
     "metadata": {},
     "source": [
      "<p>\n",
      "  <strong>Title</strong>\n",
      "  <%= @page.title %>\n",
      "</p>\n",
      "\n",
      "<p>\n",
      "  <strong>Slug</strong>\n",
      "  <%= @page.slug %>\n",
      "</p>\n",
      "\n",
      "<p>\n",
      "  <strong>Content</strong>\n",
      "  <%= @page.content %>\n",
      "</p>"
     ]
    },
    {
     "cell_type": "heading",
     "level": 3,
     "metadata": {},
     "source": [
      "add index in app/controllers/pages_controllers.rb"
     ]
    },
    {
     "cell_type": "raw",
     "metadata": {},
     "source": [
      "  def index\n",
      "  \t@notice = \"This came from the pages controller pages_controller.rb\"\n",
      "  \t@pages = Page.all\n",
      "  end"
     ]
    },
    {
     "cell_type": "heading",
     "level": 3,
     "metadata": {},
     "source": [
      "add app/views/pages/index.html.erb"
     ]
    },
    {
     "cell_type": "raw",
     "metadata": {},
     "source": [
      "<h1>Listing pages</h1>\n",
      "<table>\n",
      "  <thead>\n",
      "    <th>Title</th>\n",
      "    <th>Slub</th>\n",
      "    <th>Content</th>\n",
      "    <th></th>\n",
      "    <th></th>\n",
      "    <th></th>\n",
      "  </thead>\n",
      "  <tbody>\n",
      "  <% @pages.each do |page| %>\n",
      "    <tr>\n",
      "      <td><%= page.title %></td>\n",
      "      <td><%= page.slug %></td>\n",
      "      <td><%= page.content %></td>\n",
      "    </tr>\n",
      "  <% end %>\n",
      "  </tbody> \n",
      "</table>\n",
      "\n",
      "<%= link_to \"New Page\", new_page_path  %>"
     ]
    },
    {
     "cell_type": "heading",
     "level": 2,
     "metadata": {},
     "source": [
      "Create Resources with ActiveAdmin"
     ]
    },
    {
     "cell_type": "heading",
     "level": 2,
     "metadata": {},
     "source": [
      "Go back to the jumpstartrails project"
     ]
    },
    {
     "cell_type": "heading",
     "level": 3,
     "metadata": {},
     "source": [
      "rails generate active_admin:resource page"
     ]
    },
    {
     "cell_type": "raw",
     "metadata": {},
     "source": [
      "create    app/admin/pages.rb"
     ]
    },
    {
     "cell_type": "heading",
     "level": 2,
     "metadata": {},
     "source": [
      "Add about section in app/controllers/page_controller.rb"
     ]
    },
    {
     "cell_type": "raw",
     "metadata": {},
     "source": [
      "class PagesController < ApplicationController\n",
      "  def index\n",
      "  end\n",
      "  def about\n",
      "  \t@page = Page.where(slug: 'about').first\n",
      "  end\n",
      "end"
     ]
    },
    {
     "cell_type": "heading",
     "level": 3,
     "metadata": {},
     "source": [
      "Create app/views/pages/about.html.erb"
     ]
    },
    {
     "cell_type": "raw",
     "metadata": {},
     "source": [
      "<p><%= @page.content.html_safe %></p>"
     ]
    },
    {
     "cell_type": "heading",
     "level": 3,
     "metadata": {},
     "source": [
      "Change default dashboard message in app/admin/dashboard.rb"
     ]
    },
    {
     "cell_type": "raw",
     "metadata": {},
     "source": [
      "content :title => proc{ I18n.t(\"active_admin.dashboard\") } do\n",
      "    div :class => \"blank_slate_container\", :id => \"dashboard_default_message\" do\n",
      "        # span :class => \"blank_slate\" do\n",
      "        #   span I18n.t(\"active_admin.dashboard_welcome.welcome\")\n",
      "        #   small I18n.t(\"active_admin.dashboard_welcome.call_to_action\")\n",
      "        end\n",
      "        section \"Recent Pages\" do\n",
      "            table_for Page.order(\"created_at desc\").limit(3) do\n",
      "              column :title\n",
      "              column :slug\n",
      "              column :created_at\n",
      "            end\n",
      "        strong { link_to \"View All Pages\", admin_pages_path }\n",
      "        br\n",
      "    end\n",
      "end"
     ]
    },
    {
     "cell_type": "heading",
     "level": 2,
     "metadata": {},
     "source": [
      "Editing the Pages listing"
     ]
    },
    {
     "cell_type": "heading",
     "level": 3,
     "metadata": {},
     "source": [
      "add index section in app/admin/pages.rb"
     ]
    },
    {
     "cell_type": "raw",
     "metadata": {},
     "source": [
      "ActiveAdmin.register Page do\n",
      "  #...\n",
      "  controller do\n",
      "    #...\n",
      "    def permitted_params\n",
      "      params.permit(:page => [:title, :content, :slug])\n",
      "    end\n",
      "  end\t\n",
      "  #...\n",
      "  index do\n",
      "  \tcolumn :title\n",
      "  \tcolumn :slug\n",
      "  \tcolumn :created_at\n",
      "  \tdefault_actions # for the view, edit and delete options\n",
      "  end\n",
      "end"
     ]
    },
    {
     "cell_type": "heading",
     "level": 2,
     "metadata": {},
     "source": [
      "A new resource"
     ]
    },
    {
     "cell_type": "heading",
     "level": 3,
     "metadata": {},
     "source": [
      "rails g active_admin:resource Category"
     ]
    },
    {
     "cell_type": "raw",
     "metadata": {},
     "source": [
      "      create  app/admin/category.rb"
     ]
    },
    {
     "cell_type": "heading",
     "level": 3,
     "metadata": {},
     "source": [
      "rails g active_admin:resource Post"
     ]
    },
    {
     "cell_type": "raw",
     "metadata": {},
     "source": [
      "      create  app/admin/post.rb"
     ]
    },
    {
     "cell_type": "heading",
     "level": 3,
     "metadata": {},
     "source": [
      "add permissions for parameters and index in app/admin/category.rb"
     ]
    },
    {
     "cell_type": "raw",
     "metadata": {},
     "source": [
      "ActiveAdmin.register Category do\n",
      "  controller do\n",
      "    #...\n",
      "    def permitted_params\n",
      "      params.permit(:category => [:title, :description, :slug])\n",
      "    end\n",
      "  end\t\n",
      "end"
     ]
    },
    {
     "cell_type": "heading",
     "level": 3,
     "metadata": {},
     "source": [
      "add permissions for parameters and index in app/admin/post.rb"
     ]
    },
    {
     "cell_type": "raw",
     "metadata": {},
     "source": [
      "ActiveAdmin.register Post do\n",
      "  controller do\n",
      "    #...\n",
      "    def permitted_params\n",
      "      params.permit(:post => [:title, :content, :slug, :blurb, :category_id])\n",
      "    end\n",
      "  end\t\n",
      "end"
     ]
    },
    {
     "cell_type": "heading",
     "level": 2,
     "metadata": {},
     "source": [
      "Need a post controller for posts"
     ]
    },
    {
     "cell_type": "heading",
     "level": 3,
     "metadata": {},
     "source": [
      "$ rails g controller posts index show"
     ]
    },
    {
     "cell_type": "raw",
     "metadata": {},
     "source": [
      "      create  app/controllers/posts_controller.rb\n",
      "       route  get \"posts/show\"\n",
      "       route  get \"posts/index\"\n",
      "      invoke  erb\n",
      "      create    app/views/posts\n",
      "      create    app/views/posts/index.html.erb\n",
      "      create    app/views/posts/show.html.erb\n",
      "      invoke  test_unit\n",
      "      create    test/controllers/posts_controller_test.rb\n",
      "      invoke  helper\n",
      "      create    app/helpers/posts_helper.rb\n",
      "      invoke    test_unit\n",
      "      create      test/helpers/posts_helper_test.rb\n",
      "      invoke  assets\n",
      "      invoke    coffee\n",
      "      create      app/assets/javascripts/posts.js.coffee\n",
      "      invoke    scss\n",
      "      create      app/assets/stylesheets/posts.css.scss"
     ]
    },
    {
     "cell_type": "heading",
     "level": 2,
     "metadata": {},
     "source": [
      "Add recent posts to the dashboard"
     ]
    },
    {
     "cell_type": "heading",
     "level": 3,
     "metadata": {},
     "source": [
      "add column section in app/admin/dashboard.rb"
     ]
    },
    {
     "cell_type": "raw",
     "metadata": {},
     "source": [
      "ActiveAdmin.register_page \"Dashboard\" do\n",
      "\n",
      "  menu :priority => 1, :label => proc{ I18n.t(\"active_admin.dashboard\") }\n",
      "\n",
      "  content :title => proc{ I18n.t(\"active_admin.dashboard\") } do\n",
      "    div :class => \"blank_slate_container\", :id => \"dashboard_default_message\" do\n",
      "        # span :class => \"blank_slate\" do\n",
      "        #   span I18n.t(\"active_admin.dashboard_welcome.welcome\")\n",
      "        #   small I18n.t(\"active_admin.dashboard_welcome.call_to_action\")\n",
      "        end\n",
      "        section \"Recent Pages\" do\n",
      "            table_for Page.order(\"created_at desc\").limit(3) do\n",
      "              column :title\n",
      "              column :slug\n",
      "              column :created_at\n",
      "            end\n",
      "        strong { link_to \"View All Pages\", admin_pages_path }\n",
      "        br\n",
      "    end\n",
      "\n",
      "    # Here's an example of a dashboard with columns and panels.\n",
      "    columns do\n",
      "        column do\n",
      "            panel \"Recent Posts\" do\n",
      "                table_for Post.order(\"created_at desc\").limit(5) do\n",
      "                    column(\"Title\") {|post| link_to(post.title, admin_post_path(post))}\n",
      "                    column :created_at\n",
      "                 end\n",
      "            end\n",
      "        end\n",
      "\n",
      "        column do\n",
      "            panel \"Info\" do\n",
      "                para \"Welcome to ActiveAdmin.\"\n",
      "            end\n",
      "        end\n",
      "    end\n",
      "\n",
      "    # Here is an example of a simple dashboard with columns and panels.\n",
      "    #\n",
      "    # columns do\n",
      "    #   column do\n",
      "    #     panel \"Recent Posts\" do\n",
      "    #       ul do\n",
      "    #         Post.recent(5).map do |post|\n",
      "    #           li link_to(post.title, admin_post_path(post))\n",
      "    #         end\n",
      "    #       end\n",
      "    #     end\n",
      "    #   end\n",
      "\n",
      "    #   column do\n",
      "    #     panel \"Info\" do\n",
      "    #       para \"Welcome to ActiveAdmin.\"\n",
      "    #     end\n",
      "    #   end\n",
      "    # end\n",
      "  end # content\n",
      "end\n"
     ]
    },
    {
     "cell_type": "heading",
     "level": 2,
     "metadata": {},
     "source": [
      "Controlling fields on the Forms"
     ]
    },
    {
     "cell_type": "heading",
     "level": 3,
     "metadata": {},
     "source": [
      "rails g migration AddImageToPosts image:string"
     ]
    },
    {
     "cell_type": "raw",
     "metadata": {},
     "source": [
      "      invoke  active_record\n",
      "      create    db/migrate/20130919131327_add_image_to_posts.rb"
     ]
    },
    {
     "cell_type": "heading",
     "level": 3,
     "metadata": {},
     "source": [
      "rake db:migrate"
     ]
    },
    {
     "cell_type": "raw",
     "metadata": {},
     "source": [
      "==  AddImageToPosts: migrating ================================================\n",
      "-- add_column(:posts, :image, :string)\n",
      "   -> 0.0009s\n",
      "==  AddImageToPosts: migrated (0.0010s) ======================================="
     ]
    },
    {
     "cell_type": "heading",
     "level": 3,
     "metadata": {},
     "source": [
      "update app/admin/post.rb to add new image field and the input form"
     ]
    },
    {
     "cell_type": "raw",
     "metadata": {},
     "source": [
      "ActiveAdmin.register Post do\n",
      "\n",
      "  # and scope\n",
      "  scope :rails\n",
      "  \n",
      "  controller do\n",
      "    #...\n",
      "    def permitted_params\n",
      "      params.permit(:post => [:title, :content, :slug, :blurb, :category_id])\n",
      "    end\n",
      "  end\n",
      "  index do\n",
      "\tcolumn :title\n",
      "\tcolumn :slug\n",
      "\tcolumn :blurb\n",
      "\tcolumn :created_at\n",
      "\tdefault_actions\n",
      "  end\n",
      "\n",
      "  form :html => { :enctype => \"multipart/form-data\"} do |f|\n",
      "\tf.inputs 'Details' do\n",
      "\t\tf.input :title\n",
      "\t    f.input :slug\n",
      "\t    f.input :blurb\n",
      "\t    f.input :category\n",
      "\t    f.input :content, :as => :text\n",
      "\tend\n",
      "\t\n",
      "\tf.inputs 'Images' do\n",
      "        f.input :image, :label => 'Post image', :as => :file\n",
      "\tend\n",
      "  end\n",
      "end"
     ]
    },
    {
     "cell_type": "heading",
     "level": 3,
     "metadata": {},
     "source": [
      "add the filter for the :rails scope in the app/models/post.rb "
     ]
    },
    {
     "cell_type": "raw",
     "metadata": {},
     "source": [
      "class Post < ActiveRecord::Base\n",
      "  # attr_accessible :title, :slug, :blurb, :content\n",
      "  belongs_to :category\n",
      "  scope :rails, -> { where(category_id: 1) }\n",
      "end"
     ]
    }
   ],
   "metadata": {}
  }
 ]
}