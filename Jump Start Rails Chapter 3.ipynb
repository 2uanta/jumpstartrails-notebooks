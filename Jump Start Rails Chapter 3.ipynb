{
 "metadata": {
  "name": ""
 },
 "nbformat": 3,
 "nbformat_minor": 0,
 "worksheets": [
  {
   "cells": [
    {
     "cell_type": "heading",
     "level": 1,
     "metadata": {},
     "source": [
      "Chapter 3: Working with data"
     ]
    },
    {
     "cell_type": "heading",
     "level": 2,
     "metadata": {},
     "source": [
      "Starting new app: jumpstartrails"
     ]
    },
    {
     "cell_type": "heading",
     "level": 3,
     "metadata": {},
     "source": [
      "$ rails new jumpstartrails -d postgresql"
     ]
    },
    {
     "cell_type": "raw",
     "metadata": {},
     "source": [
      "      create  \n",
      "      create  README.rdoc\n",
      "      create  Rakefile\n",
      "      create  config.ru\n",
      "      create  .gitignore\n",
      "      create  Gemfile\n",
      "      create  app\n",
      "      create  app/assets/javascripts/application.js\n",
      "      create  app/assets/stylesheets/application.css\n",
      "      create  app/controllers/application_controller.rb\n",
      "      create  app/helpers/application_helper.rb\n",
      "      create  app/views/layouts/application.html.erb\n",
      "      create  app/assets/images/.keep\n",
      "      create  app/mailers/.keep\n",
      "      create  app/models/.keep\n",
      "      create  app/controllers/concerns/.keep\n",
      "      create  app/models/concerns/.keep\n",
      "      create  bin\n",
      "      create  bin/bundle\n",
      "      create  bin/rails\n",
      "      create  bin/rake\n",
      "      create  config\n",
      "      create  config/routes.rb\n",
      "      create  config/application.rb\n",
      "      create  config/environment.rb\n",
      "      create  config/environments\n",
      "      create  config/environments/development.rb\n",
      "      create  config/environments/production.rb\n",
      "      create  config/environments/test.rb\n",
      "      create  config/initializers\n",
      "      create  config/initializers/backtrace_silencers.rb\n",
      "      create  config/initializers/filter_parameter_logging.rb\n",
      "      create  config/initializers/inflections.rb\n",
      "      create  config/initializers/mime_types.rb\n",
      "      create  config/initializers/secret_token.rb\n",
      "      create  config/initializers/session_store.rb\n",
      "      create  config/initializers/wrap_parameters.rb\n",
      "      create  config/locales\n",
      "      create  config/locales/en.yml\n",
      "      create  config/boot.rb\n",
      "      create  config/database.yml\n",
      "      create  db\n",
      "      create  db/seeds.rb\n",
      "      create  lib\n",
      "      create  lib/tasks\n",
      "      create  lib/tasks/.keep\n",
      "      create  lib/assets\n",
      "      create  lib/assets/.keep\n",
      "      create  log\n",
      "      create  log/.keep\n",
      "      create  public\n",
      "      create  public/404.html\n",
      "      create  public/422.html\n",
      "      create  public/500.html\n",
      "      create  public/favicon.ico\n",
      "      create  public/robots.txt\n",
      "      create  test/fixtures\n",
      "      create  test/fixtures/.keep\n",
      "      create  test/controllers\n",
      "      create  test/controllers/.keep\n",
      "      create  test/mailers\n",
      "      create  test/mailers/.keep\n",
      "      create  test/models\n",
      "      create  test/models/.keep\n",
      "      create  test/helpers\n",
      "      create  test/helpers/.keep\n",
      "      create  test/integration\n",
      "      create  test/integration/.keep\n",
      "      create  test/test_helper.rb\n",
      "      create  tmp/cache\n",
      "      create  tmp/cache/assets\n",
      "      create  vendor/assets/javascripts\n",
      "      create  vendor/assets/javascripts/.keep\n",
      "      create  vendor/assets/stylesheets\n",
      "      create  vendor/assets/stylesheets/.keep\n",
      "         run  bundle install\n",
      "Fetching gem metadata from https://rubygems.org/...........\n",
      "Fetching gem metadata from https://rubygems.org/..\n",
      "Resolving dependencies...\n",
      "Using rake (10.1.0) \n",
      "Using i18n (0.6.5) \n",
      "Using minitest (4.7.5) \n",
      "Using multi_json (1.8.0) \n",
      "Using atomic (1.1.14) \n",
      "Using thread_safe (0.1.3) \n",
      "Using tzinfo (0.3.37) \n",
      "Using activesupport (4.0.0) \n",
      "Using builder (3.1.4) \n",
      "Using erubis (2.7.0) \n",
      "Using rack (1.5.2) \n",
      "Using rack-test (0.6.2) \n",
      "Using actionpack (4.0.0) \n",
      "Using mime-types (1.25) \n",
      "Using polyglot (0.3.3) \n",
      "Using treetop (1.4.15) \n",
      "Using mail (2.5.4) \n",
      "Using actionmailer (4.0.0) \n",
      "Using activemodel (4.0.0) \n",
      "Using activerecord-deprecated_finders (1.0.3) \n",
      "Using arel (4.0.0) \n",
      "Using activerecord (4.0.0) \n",
      "Using bundler (1.3.5) \n",
      "Using coffee-script-source (1.6.3) \n",
      "Using execjs (2.0.1) \n",
      "Using coffee-script (2.2.0) \n",
      "Using thor (0.18.1) \n",
      "Using railties (4.0.0) \n",
      "Using coffee-rails (4.0.0) \n",
      "Using hike (1.2.3) \n",
      "Using jbuilder (1.5.1) \n",
      "Using jquery-rails (3.0.4) \n",
      "Using json (1.8.0) \n",
      "Installing pg (0.16.0) \n",
      "Using tilt (1.4.1) \n",
      "Using sprockets (2.10.0) \n",
      "Using sprockets-rails (2.0.0) \n",
      "Using rails (4.0.0) \n",
      "Using rdoc (3.12.2) \n",
      "Using sass (3.2.10) \n",
      "Using sass-rails (4.0.0) \n",
      "Using sdoc (0.3.20) \n",
      "Using turbolinks (1.3.0) \n",
      "Using uglifier (2.2.1) \n",
      "Your bundle is complete!\n",
      "Use `bundle show [gemname]` to see where a bundled gem is installed.\n"
     ]
    },
    {
     "cell_type": "markdown",
     "metadata": {},
     "source": [
      "Set up environment for rvm\n",
      "--------------------------\n",
      "<pre>\n",
      "<strong>\n",
      "cd jumpstartrails\n",
      "rvm use --create 2.0.0@jumpstartrails\n",
      "gem install rails\n",
      "</strong>\n",
      "</pre>"
     ]
    },
    {
     "cell_type": "raw",
     "metadata": {},
     "source": [
      "quan@quan-VirtualBox:~/rails_projects/jumpstartrails$ rvm use --create 2.0.0@jumpstartrails\n",
      "Using /home/quan/.rvm/gems/ruby-2.0.0-p247 with gemset jumpstartrails\n",
      "quan@quan-VirtualBox:~/rails_projects/jumpstartrails$ gem install rails\n",
      "Fetching: i18n-0.6.5.gem (100%)\n",
      "Successfully installed i18n-0.6.5\n",
      "Fetching: multi_json-1.8.0.gem (100%)\n",
      "Successfully installed multi_json-1.8.0\n",
      "Fetching: tzinfo-0.3.37.gem (100%)\n",
      "Successfully installed tzinfo-0.3.37\n",
      "Fetching: minitest-4.7.5.gem (100%)\n",
      "Successfully installed minitest-4.7.5\n",
      "Fetching: atomic-1.1.14.gem (100%)\n",
      "Building native extensions.  This could take a while...\n",
      "Successfully installed atomic-1.1.14\n",
      "Fetching: thread_safe-0.1.3.gem (100%)\n",
      "Successfully installed thread_safe-0.1.3\n",
      "Fetching: activesupport-4.0.0.gem (100%)\n",
      "Successfully installed activesupport-4.0.0\n",
      "Fetching: builder-3.1.4.gem (100%)\n",
      "Successfully installed builder-3.1.4\n",
      "Fetching: rack-1.5.2.gem (100%)\n",
      "Successfully installed rack-1.5.2\n",
      "Fetching: rack-test-0.6.2.gem (100%)\n",
      "Successfully installed rack-test-0.6.2\n",
      "Fetching: erubis-2.7.0.gem (100%)\n",
      "Successfully installed erubis-2.7.0\n",
      "Fetching: actionpack-4.0.0.gem (100%)\n",
      "Successfully installed actionpack-4.0.0\n",
      "Fetching: activemodel-4.0.0.gem (100%)\n",
      "Successfully installed activemodel-4.0.0\n",
      "Fetching: arel-4.0.0.gem (100%)\n",
      "Successfully installed arel-4.0.0\n",
      "Fetching: activerecord-deprecated_finders-1.0.3.gem (100%)\n",
      "Successfully installed activerecord-deprecated_finders-1.0.3\n",
      "Fetching: activerecord-4.0.0.gem (100%)\n",
      "Successfully installed activerecord-4.0.0\n",
      "Fetching: mime-types-1.25.gem (100%)\n",
      "Successfully installed mime-types-1.25\n",
      "Fetching: polyglot-0.3.3.gem (100%)\n",
      "Successfully installed polyglot-0.3.3\n",
      "Fetching: treetop-1.4.15.gem (100%)\n",
      "Successfully installed treetop-1.4.15\n",
      "Fetching: mail-2.5.4.gem (100%)\n",
      "Successfully installed mail-2.5.4\n",
      "Fetching: actionmailer-4.0.0.gem (100%)\n",
      "Successfully installed actionmailer-4.0.0\n",
      "Fetching: thor-0.18.1.gem (100%)\n",
      "Successfully installed thor-0.18.1\n",
      "Fetching: railties-4.0.0.gem (100%)\n",
      "Successfully installed railties-4.0.0\n",
      "Fetching: hike-1.2.3.gem (100%)\n",
      "Successfully installed hike-1.2.3\n",
      "Fetching: tilt-1.4.1.gem (100%)\n",
      "Successfully installed tilt-1.4.1\n",
      "Fetching: sprockets-2.10.0.gem (100%)\n",
      "Successfully installed sprockets-2.10.0\n",
      "Fetching: sprockets-rails-2.0.0.gem (100%)\n",
      "Successfully installed sprockets-rails-2.0.0\n",
      "Fetching: rails-4.0.0.gem (100%)\n",
      "Successfully installed rails-4.0.0\n",
      "Parsing documentation for i18n-0.6.5\n",
      "Installing ri documentation for i18n-0.6.5\n",
      "Parsing documentation for multi_json-1.8.0\n",
      "Installing ri documentation for multi_json-1.8.0\n",
      "Parsing documentation for tzinfo-0.3.37\n",
      "Installing ri documentation for tzinfo-0.3.37\n",
      "Parsing documentation for minitest-4.7.5\n",
      "Installing ri documentation for minitest-4.7.5\n",
      "Parsing documentation for atomic-1.1.14\n",
      "unable to convert \"\\xC0\" from ASCII-8BIT to UTF-8 for lib/atomic_reference.so, skipping\n",
      "Installing ri documentation for atomic-1.1.14\n",
      "Parsing documentation for thread_safe-0.1.3\n",
      "Installing ri documentation for thread_safe-0.1.3\n",
      "Parsing documentation for activesupport-4.0.0\n",
      "unable to convert \"\\x80\" from ASCII-8BIT to UTF-8 for lib/active_support/values/unicode_tables.dat, skipping\n",
      "Installing ri documentation for activesupport-4.0.0\n",
      "Parsing documentation for builder-3.1.4\n",
      "/home/quan/.rvm/rubies/ruby-2.0.0-p247/lib/ruby/2.0.0/rdoc/parser.rb:87: warning: Unsupported encoding : ignored\n",
      "/home/quan/.rvm/rubies/ruby-2.0.0-p247/lib/ruby/2.0.0/rdoc/parser.rb:87: warning: Unsupported encoding  ignored\n",
      "Installing ri documentation for builder-3.1.4\n",
      "Parsing documentation for rack-1.5.2\n",
      "Installing ri documentation for rack-1.5.2\n",
      "Parsing documentation for rack-test-0.6.2\n",
      "Installing ri documentation for rack-test-0.6.2\n",
      "Parsing documentation for erubis-2.7.0\n",
      "Installing ri documentation for erubis-2.7.0\n",
      "Parsing documentation for actionpack-4.0.0\n",
      "Installing ri documentation for actionpack-4.0.0\n",
      "Parsing documentation for activemodel-4.0.0\n",
      "Installing ri documentation for activemodel-4.0.0\n",
      "Parsing documentation for arel-4.0.0\n",
      "Installing ri documentation for arel-4.0.0\n",
      "Parsing documentation for activerecord-deprecated_finders-1.0.3\n",
      "Installing ri documentation for activerecord-deprecated_finders-1.0.3\n",
      "Parsing documentation for activerecord-4.0.0\n",
      "Installing ri documentation for activerecord-4.0.0\n",
      "Parsing documentation for mime-types-1.25\n",
      "Installing ri documentation for mime-types-1.25\n",
      "Parsing documentation for polyglot-0.3.3\n",
      "Installing ri documentation for polyglot-0.3.3\n",
      "Parsing documentation for treetop-1.4.15\n",
      "Installing ri documentation for treetop-1.4.15\n",
      "Parsing documentation for mail-2.5.4\n",
      "unable to convert \"\\x80\" from ASCII-8BIT to UTF-8 for lib/mail/values/unicode_tables.dat, skipping\n",
      "Installing ri documentation for mail-2.5.4\n",
      "Parsing documentation for actionmailer-4.0.0\n",
      "Installing ri documentation for actionmailer-4.0.0\n",
      "Parsing documentation for thor-0.18.1\n",
      "Installing ri documentation for thor-0.18.1\n",
      "Parsing documentation for railties-4.0.0\n",
      "Installing ri documentation for railties-4.0.0\n",
      "Parsing documentation for hike-1.2.3\n",
      "Installing ri documentation for hike-1.2.3\n",
      "Parsing documentation for tilt-1.4.1\n",
      "Installing ri documentation for tilt-1.4.1\n",
      "Parsing documentation for sprockets-2.10.0\n",
      "Installing ri documentation for sprockets-2.10.0\n",
      "Parsing documentation for sprockets-rails-2.0.0\n",
      "Installing ri documentation for sprockets-rails-2.0.0\n",
      "Parsing documentation for rails-4.0.0\n",
      "unable to convert \"\\x89\" from ASCII-8BIT to UTF-8 for guides/assets/images/belongs_to.png, skipping\n",
      "unable to convert \"\\xF4\" from ASCII-8BIT to UTF-8 for guides/assets/images/book_icon.gif, skipping\n",
      "unable to convert \"\\x91\" from ASCII-8BIT to UTF-8 for guides/assets/images/bullet.gif, skipping\n",
      "unable to convert \"\\xF5\" from ASCII-8BIT to UTF-8 for guides/assets/images/chapters_icon.gif, skipping\n",
      "unable to convert \"\\xF5\" from ASCII-8BIT to UTF-8 for guides/assets/images/check_bullet.gif, skipping\n",
      "unable to convert \"\\xF4\" from ASCII-8BIT to UTF-8 for guides/assets/images/credits_pic_blank.gif, skipping\n",
      "unable to convert \"\\x89\" from ASCII-8BIT to UTF-8 for guides/assets/images/csrf.png, skipping\n",
      "unable to convert \"\\x89\" from ASCII-8BIT to UTF-8 for guides/assets/images/edge_badge.png, skipping\n",
      "unable to convert \"\\x9E\" from ASCII-8BIT to UTF-8 for guides/assets/images/favicon.ico, skipping\n",
      "unable to convert \"\\x80\" from ASCII-8BIT to UTF-8 for guides/assets/images/feature_tile.gif, skipping\n",
      "unable to convert \"\\x80\" from ASCII-8BIT to UTF-8 for guides/assets/images/footer_tile.gif, skipping\n",
      "unable to convert \"\\x89\" from ASCII-8BIT to UTF-8 for guides/assets/images/fxn.png, skipping\n",
      "unable to convert \"\\x89\" from ASCII-8BIT to UTF-8 for guides/assets/images/getting_started/challenge.png, skipping\n",
      "unable to convert \"\\x89\" from ASCII-8BIT to UTF-8 for guides/assets/images/getting_started/confirm_dialog.png, skipping\n",
      "unable to convert \"\\x89\" from ASCII-8BIT to UTF-8 for guides/assets/images/getting_started/forbidden_attributes_for_new_post.png, skipping\n",
      "unable to convert \"\\x89\" from ASCII-8BIT to UTF-8 for guides/assets/images/getting_started/form_with_errors.png, skipping\n",
      "unable to convert \"\\x89\" from ASCII-8BIT to UTF-8 for guides/assets/images/getting_started/index_action_with_edit_link.png, skipping\n",
      "unable to convert \"\\x89\" from ASCII-8BIT to UTF-8 for guides/assets/images/getting_started/new_post.png, skipping\n",
      "unable to convert \"\\x89\" from ASCII-8BIT to UTF-8 for guides/assets/images/getting_started/post_with_comments.png, skipping\n",
      "unable to convert \"\\x89\" from ASCII-8BIT to UTF-8 for guides/assets/images/getting_started/rails_welcome.png, skipping\n",
      "unable to convert \"\\x89\" from ASCII-8BIT to UTF-8 for guides/assets/images/getting_started/routing_error_no_controller.png, skipping\n",
      "unable to convert \"\\x89\" from ASCII-8BIT to UTF-8 for guides/assets/images/getting_started/routing_error_no_route_matches.png, skipping\n",
      "unable to convert \"\\x89\" from ASCII-8BIT to UTF-8 for guides/assets/images/getting_started/show_action_for_posts.png, skipping\n",
      "unable to convert \"\\x89\" from ASCII-8BIT to UTF-8 for guides/assets/images/getting_started/template_is_missing_posts_new.png, skipping\n",
      "unable to convert \"\\x89\" from ASCII-8BIT to UTF-8 for guides/assets/images/getting_started/undefined_method_post_path.png, skipping\n",
      "unable to convert \"\\x89\" from ASCII-8BIT to UTF-8 for guides/assets/images/getting_started/unknown_action_create_for_posts.png, skipping\n",
      "unable to convert \"\\x89\" from ASCII-8BIT to UTF-8 for guides/assets/images/getting_started/unknown_action_new_for_posts.png, skipping\n",
      "unable to convert \"\\xF0\" from ASCII-8BIT to UTF-8 for guides/assets/images/grey_bullet.gif, skipping\n",
      "unable to convert \"\\x89\" from ASCII-8BIT to UTF-8 for guides/assets/images/habtm.png, skipping\n",
      "unable to convert \"\\x89\" from ASCII-8BIT to UTF-8 for guides/assets/images/has_many.png, skipping\n",
      "unable to convert \"\\x89\" from ASCII-8BIT to UTF-8 for guides/assets/images/has_many_through.png, skipping\n",
      "unable to convert \"\\x89\" from ASCII-8BIT to UTF-8 for guides/assets/images/has_one.png, skipping\n",
      "unable to convert \"\\x89\" from ASCII-8BIT to UTF-8 for guides/assets/images/has_one_through.png, skipping\n",
      "unable to convert \"\\x89\" from ASCII-8BIT to UTF-8 for guides/assets/images/header_backdrop.png, skipping\n",
      "unable to convert \"\\x80\" from ASCII-8BIT to UTF-8 for guides/assets/images/header_tile.gif, skipping\n",
      "unable to convert \"\\x89\" from ASCII-8BIT to UTF-8 for guides/assets/images/i18n/demo_html_safe.png, skipping\n",
      "unable to convert \"\\x89\" from ASCII-8BIT to UTF-8 for guides/assets/images/i18n/demo_localized_pirate.png, skipping\n",
      "unable to convert \"\\x89\" from ASCII-8BIT to UTF-8 for guides/assets/images/i18n/demo_translated_en.png, skipping\n",
      "unable to convert \"\\x89\" from ASCII-8BIT to UTF-8 for guides/assets/images/i18n/demo_translated_pirate.png, skipping\n",
      "unable to convert \"\\x89\" from ASCII-8BIT to UTF-8 for guides/assets/images/i18n/demo_translation_missing.png, skipping\n",
      "unable to convert \"\\x89\" from ASCII-8BIT to UTF-8 for guides/assets/images/i18n/demo_untranslated.png, skipping\n",
      "unable to convert \"\\x89\" from ASCII-8BIT to UTF-8 for guides/assets/images/icons/callouts/1.png, skipping\n",
      "unable to convert \"\\x89\" from ASCII-8BIT to UTF-8 for guides/assets/images/icons/callouts/10.png, skipping\n",
      "unable to convert \"\\x89\" from ASCII-8BIT to UTF-8 for guides/assets/images/icons/callouts/11.png, skipping\n",
      "unable to convert \"\\x89\" from ASCII-8BIT to UTF-8 for guides/assets/images/icons/callouts/12.png, skipping\n",
      "unable to convert \"\\x89\" from ASCII-8BIT to UTF-8 for guides/assets/images/icons/callouts/13.png, skipping\n",
      "unable to convert \"\\x89\" from ASCII-8BIT to UTF-8 for guides/assets/images/icons/callouts/14.png, skipping\n",
      "unable to convert \"\\x89\" from ASCII-8BIT to UTF-8 for guides/assets/images/icons/callouts/15.png, skipping\n",
      "unable to convert \"\\x89\" from ASCII-8BIT to UTF-8 for guides/assets/images/icons/callouts/2.png, skipping\n",
      "unable to convert \"\\x89\" from ASCII-8BIT to UTF-8 for guides/assets/images/icons/callouts/3.png, skipping\n",
      "unable to convert \"\\x89\" from ASCII-8BIT to UTF-8 for guides/assets/images/icons/callouts/4.png, skipping\n",
      "unable to convert \"\\x89\" from ASCII-8BIT to UTF-8 for guides/assets/images/icons/callouts/5.png, skipping\n",
      "unable to convert \"\\x89\" from ASCII-8BIT to UTF-8 for guides/assets/images/icons/callouts/6.png, skipping\n",
      "unable to convert \"\\x89\" from ASCII-8BIT to UTF-8 for guides/assets/images/icons/callouts/7.png, skipping\n",
      "unable to convert \"\\x89\" from ASCII-8BIT to UTF-8 for guides/assets/images/icons/callouts/8.png, skipping\n",
      "unable to convert \"\\x89\" from ASCII-8BIT to UTF-8 for guides/assets/images/icons/callouts/9.png, skipping\n",
      "unable to convert \"\\x89\" from ASCII-8BIT to UTF-8 for guides/assets/images/icons/caution.png, skipping\n",
      "unable to convert \"\\x89\" from ASCII-8BIT to UTF-8 for guides/assets/images/icons/example.png, skipping\n",
      "unable to convert \"\\x89\" from ASCII-8BIT to UTF-8 for guides/assets/images/icons/home.png, skipping\n",
      "unable to convert \"\\x89\" from ASCII-8BIT to UTF-8 for guides/assets/images/icons/important.png, skipping\n",
      "unable to convert \"\\x89\" from ASCII-8BIT to UTF-8 for guides/assets/images/icons/next.png, skipping\n",
      "unable to convert \"\\x89\" from ASCII-8BIT to UTF-8 for guides/assets/images/icons/note.png, skipping\n",
      "unable to convert \"\\x89\" from ASCII-8BIT to UTF-8 for guides/assets/images/icons/prev.png, skipping\n",
      "unable to convert \"\\x89\" from ASCII-8BIT to UTF-8 for guides/assets/images/icons/tip.png, skipping\n",
      "unable to convert \"\\x89\" from ASCII-8BIT to UTF-8 for guides/assets/images/icons/up.png, skipping\n",
      "unable to convert \"\\x89\" from ASCII-8BIT to UTF-8 for guides/assets/images/icons/warning.png, skipping\n",
      "unable to convert \"\\xFF\" from ASCII-8BIT to UTF-8 for guides/assets/images/jaimeiniesta.jpg, skipping\n",
      "unable to convert \"\\xF5\" from ASCII-8BIT to UTF-8 for guides/assets/images/nav_arrow.gif, skipping\n",
      "unable to convert \"\\xFF\" from ASCII-8BIT to UTF-8 for guides/assets/images/oscardelben.jpg, skipping\n",
      "unable to convert \"\\x89\" from ASCII-8BIT to UTF-8 for guides/assets/images/polymorphic.png, skipping\n",
      "unable to convert \"\\x89\" from ASCII-8BIT to UTF-8 for guides/assets/images/radar.png, skipping\n",
      "unable to convert \"\\x89\" from ASCII-8BIT to UTF-8 for guides/assets/images/rails4_features.png, skipping\n",
      "unable to convert \"\\xFF\" from ASCII-8BIT to UTF-8 for guides/assets/images/rails_guides_kindle_cover.jpg, skipping\n",
      "unable to convert \"\\xEC\" from ASCII-8BIT to UTF-8 for guides/assets/images/rails_guides_logo.gif, skipping\n",
      "unable to convert \"\\x8C\" from ASCII-8BIT to UTF-8 for guides/assets/images/rails_logo_remix.gif, skipping\n",
      "unable to convert \"\\x89\" from ASCII-8BIT to UTF-8 for guides/assets/images/session_fixation.png, skipping\n",
      "unable to convert \"\\x80\" from ASCII-8BIT to UTF-8 for guides/assets/images/tab_grey.gif, skipping\n",
      "unable to convert \"\\x80\" from ASCII-8BIT to UTF-8 for guides/assets/images/tab_info.gif, skipping\n",
      "unable to convert \"\\x80\" from ASCII-8BIT to UTF-8 for guides/assets/images/tab_note.gif, skipping\n",
      "unable to convert \"\\x80\" from ASCII-8BIT to UTF-8 for guides/assets/images/tab_red.gif, skipping\n",
      "unable to convert \"\\x80\" from ASCII-8BIT to UTF-8 for guides/assets/images/tab_yellow.gif, skipping\n",
      "unable to convert \"\\x89\" from ASCII-8BIT to UTF-8 for guides/assets/images/tab_yellow.png, skipping\n",
      "unable to convert \"\\xFF\" from ASCII-8BIT to UTF-8 for guides/assets/images/vijaydev.jpg, skipping\n",
      "Installing ri documentation for rails-4.0.0\n",
      "28 gems installed\n",
      "quan@quan-VirtualBox:~/rails_projects/jumpstartrails$"
     ]
    },
    {
     "cell_type": "markdown",
     "metadata": {},
     "source": [
      "Finalize rvm\n",
      "------------\n",
      "<pre>\n",
      "<strong>\n",
      "cd jumpstartrails\n",
      "rvm --rvmrc 2.0.0@jumpstartrails\n",
      "rvm rvmrc warning ignore all.rvmrcs\n",
      "</strong>\n",
      "</pre>"
     ]
    },
    {
     "cell_type": "heading",
     "level": 2,
     "metadata": {},
     "source": [
      "Install gem bundle"
     ]
    },
    {
     "cell_type": "markdown",
     "metadata": {},
     "source": [
      " Uncomment \"therubyracer\" in the Gemfile\n",
      " \n",
      " run <pre><strong>bundle install</strong></pre>"
     ]
    },
    {
     "cell_type": "raw",
     "metadata": {},
     "source": [
      "quan@quan-VirtualBox:~/rails_projects/jumpstartrails$ bundle install\n",
      "Fetching gem metadata from https://rubygems.org/...........\n",
      "Fetching gem metadata from https://rubygems.org/..\n",
      "Resolving dependencies...\n",
      "Using rake (10.1.0) \n",
      "Using i18n (0.6.5) \n",
      "Using minitest (4.7.5) \n",
      "Using multi_json (1.8.0) \n",
      "Using atomic (1.1.14) \n",
      "Using thread_safe (0.1.3) \n",
      "Using tzinfo (0.3.37) \n",
      "Using activesupport (4.0.0) \n",
      "Using builder (3.1.4) \n",
      "Using erubis (2.7.0) \n",
      "Using rack (1.5.2) \n",
      "Using rack-test (0.6.2) \n",
      "Using actionpack (4.0.0) \n",
      "Using mime-types (1.25) \n",
      "Using polyglot (0.3.3) \n",
      "Using treetop (1.4.15) \n",
      "Using mail (2.5.4) \n",
      "Using actionmailer (4.0.0) \n",
      "Using activemodel (4.0.0) \n",
      "Using activerecord-deprecated_finders (1.0.3) \n",
      "Using arel (4.0.0) \n",
      "Using activerecord (4.0.0) \n",
      "Using bundler (1.3.5) \n",
      "Using coffee-script-source (1.6.3) \n",
      "Using execjs (2.0.1) \n",
      "Using coffee-script (2.2.0) \n",
      "Using thor (0.18.1) \n",
      "Using railties (4.0.0) \n",
      "Using coffee-rails (4.0.0) \n",
      "Using hike (1.2.3) \n",
      "Using jbuilder (1.5.1) \n",
      "Using jquery-rails (3.0.4) \n",
      "Using json (1.8.0) \n",
      "Installing libv8 (3.16.14.3) \n",
      "Using pg (0.16.0) \n",
      "Using tilt (1.4.1) \n",
      "Using sprockets (2.10.0) \n",
      "Using sprockets-rails (2.0.0) \n",
      "Using rails (4.0.0) \n",
      "Using rdoc (3.12.2) \n",
      "Installing ref (1.0.5) \n",
      "Using sass (3.2.10) \n",
      "Using sass-rails (4.0.0) \n",
      "Using sdoc (0.3.20) \n",
      "Installing therubyracer (0.12.0) \n",
      "Using turbolinks (1.3.0) \n",
      "Using uglifier (2.2.1) \n",
      "Your bundle is complete!\n",
      "Use `bundle show [gemname]` to see where a bundled gem is installed.\n"
     ]
    },
    {
     "cell_type": "heading",
     "level": 2,
     "metadata": {},
     "source": [
      "Install posgres server"
     ]
    },
    {
     "cell_type": "markdown",
     "metadata": {},
     "source": [
      "<pre><strong>\n",
      "sudo apt-get install postgresql-client postgresql postgresql-contrib\n",
      "</strong></pre>\n",
      "\n",
      "set default password for postgres as postgres\n",
      "\n",
      "<pre><strong>\n",
      "sudo -u postgres psql postgres\n",
      "</strong></pre>\n",
      "\n",
      "    postgres=# password postgres\n",
      "    postgres-# \\password postgres\n",
      "    Enter new password: \n",
      "    Enter it again: \n",
      "    postgres-# \n",
      "    \n",
      "\n",
      "\n"
     ]
    },
    {
     "cell_type": "heading",
     "level": 2,
     "metadata": {},
     "source": [
      "Create new postgres admin role for jumpstartrails user using pgadmin3"
     ]
    },
    {
     "cell_type": "markdown",
     "metadata": {},
     "source": [
      "- add the localhost server using the newly created posgres username and password\n",
      "- expand the Servers --> localhost --> Login Roles\n",
      "- right-click on Login Roles and select \"New Login Role...\"\n",
      "    - enter jumpstartrails as Role name\n",
      "    - enter jumpstartrails password in the Definiiton tab\n",
      "    - select Can login and Can create database objects in Role privileges tab\n",
      "- restart posgres server by\n",
      "<pre><strong>\n",
      "$ sudo service postgresql restart\n",
      "</strong></pre>\n"
     ]
    },
    {
     "cell_type": "heading",
     "level": 2,
     "metadata": {},
     "source": [
      "Add postgres password, host and port information  in config/database.yml"
     ]
    },
    {
     "cell_type": "raw",
     "metadata": {},
     "source": [
      "# PostgreSQL. Versions 8.2 and up are supported.\n",
      "#\n",
      "# Install the pg driver:\n",
      "#   gem install pg\n",
      "# On OS X with Homebrew:\n",
      "#   gem install pg -- --with-pg-config=/usr/local/bin/pg_config\n",
      "# On OS X with MacPorts:\n",
      "#   gem install pg -- --with-pg-config=/opt/local/lib/postgresql84/bin/pg_config\n",
      "# On Windows:\n",
      "#   gem install pg\n",
      "#       Choose the win32 build.\n",
      "#       Install PostgreSQL and put its /bin directory on your path.\n",
      "#\n",
      "# Configure Using Gemfile\n",
      "# gem 'pg'\n",
      "#\n",
      "development:\n",
      "  adapter: postgresql\n",
      "  encoding: unicode\n",
      "  database: jumpstartrails_development\n",
      "  pool: 5\n",
      "  username: jumpstartrails\n",
      "  password: postgres\n",
      "  host: localhost\n",
      "  port: 5432\n",
      "\n",
      "  # Connect on a TCP socket. Omitted by default since the client uses a\n",
      "  # domain socket that doesn't need configuration. Windows does not have\n",
      "  # domain sockets, so uncomment these lines.\n",
      "  #host: localhost\n",
      "\n",
      "  # The TCP port the server listens on. Defaults to 5432.\n",
      "  # If your server runs on a different port number, change accordingly.\n",
      "  #port: 5432\n",
      "\n",
      "  # Schema search path. The server defaults to $user,public\n",
      "  #schema_search_path: myapp,sharedapp,public\n",
      "\n",
      "  # Minimum log levels, in increasing order:\n",
      "  #   debug5, debug4, debug3, debug2, debug1,\n",
      "  #   log, notice, warning, error, fatal, and panic\n",
      "  # Defaults to warning.\n",
      "  #min_messages: notice\n",
      "\n",
      "# Warning: The database defined as \"test\" will be erased and\n",
      "# re-generated from your development database when you run \"rake\".\n",
      "# Do not set this db to the same as development or production.\n",
      "test:\n",
      "  adapter: postgresql\n",
      "  encoding: unicode\n",
      "  database: jumpstartrails_test\n",
      "  pool: 5\n",
      "  username: jumpstartrails\n",
      "  password: postgres\n",
      "  host: localhost\n",
      "  port: 5432\n",
      "\n",
      "production:\n",
      "  adapter: postgresql\n",
      "  encoding: unicode\n",
      "  database: jumpstartrails_production\n",
      "  pool: 5\n",
      "  username: jumpstartrails\n",
      "  password: postgres\n",
      "  host: localhost\n",
      "  port: 5432\n"
     ]
    },
    {
     "cell_type": "heading",
     "level": 2,
     "metadata": {},
     "source": [
      "Create databases for project with rake"
     ]
    },
    {
     "cell_type": "markdown",
     "metadata": {},
     "source": [
      "<pre><strong>\n",
      "rake db:create\n",
      "</strong></pre>"
     ]
    },
    {
     "cell_type": "heading",
     "level": 2,
     "metadata": {},
     "source": [
      "Postgres authentication problem (fix in /etc/postgresql/9.1/main/pg_hba.conf)"
     ]
    },
    {
     "cell_type": "raw",
     "metadata": {},
     "source": [
      "Password for user someuser: \n",
      "psql: FATAL:  Peer authentication failed for user \"someuser\"\n",
      "Oops. Your password didn't work, asshole.\n",
      "\n",
      "Instead, you need to open up this file /etc/postgresql/9.1/main/pg_hba.conf in a text editor (with root privileges, of course) and change this line:\n",
      "\n",
      "local   all             all                                     peer\n",
      "to this:\n",
      "\n",
      "local   all             all                                     md5\n",
      "Now, restart the postgres server:"
     ]
    },
    {
     "cell_type": "heading",
     "level": 2,
     "metadata": {},
     "source": [
      "Generating a model"
     ]
    },
    {
     "cell_type": "markdown",
     "metadata": {},
     "source": [
      "<pre><strong>\n",
      "rails g model Page title:string content:text\n",
      "</strong><pre>\n",
      "<pre>\n",
      "invoke  active_record\n",
      "create    db/migrate/20130916201116_create_pages.rb\n",
      "create    app/models/page.rb\n",
      "invoke    test_unit\n",
      "create      test/models/page_test.rb\n",
      "create      test/fixtures/pages.yml\n",
      "</pre>      "
     ]
    },
    {
     "cell_type": "markdown",
     "metadata": {},
     "source": [
      "<pre><strong>\n",
      "rake db:migrate\n",
      "</strong><pre>\n",
      "<pre>\n",
      "==  CreatePages: migrating ==========================================\n",
      "-- create_table(:pages)\n",
      "   -> 0.1099s\n",
      "==  CreatePages: migrated (0.1100s) =================================\n",
      "</pre>    "
     ]
    },
    {
     "cell_type": "markdown",
     "metadata": {},
     "source": [
      "Add another migration to add another field\n",
      "\n",
      "<pre><strong>\n",
      "rails g migration AddSlugAndBlurbToPages slug:string blurb:string\n",
      "</strong><pre>\n",
      "<pre>\n",
      "invoke  active_record\n",
      "create    db/migrate/20130916201614_add_slug_and_blurb_to_pages.rb\n",
      "</pre>     "
     ]
    },
    {
     "cell_type": "code",
     "collapsed": false,
     "input": [
      "!cat jumpstartrails/db/migrate/20130916201614_add_slug_and_blurb_to_pages.rb"
     ],
     "language": "python",
     "metadata": {},
     "outputs": [
      {
       "output_type": "stream",
       "stream": "stdout",
       "text": [
        "class AddSlugAndBlurbToPages < ActiveRecord::Migration\r\n",
        "  def change\r\n",
        "    add_column :pages, :slug, :string\r\n",
        "    add_column :pages, :blurb, :string\r\n",
        "  end\r\n",
        "end\r\n"
       ]
      }
     ],
     "prompt_number": 3
    },
    {
     "cell_type": "heading",
     "level": 3,
     "metadata": {},
     "source": [
      "Run migration with rake:dbmigrate"
     ]
    },
    {
     "cell_type": "raw",
     "metadata": {},
     "source": [
      "==  AddSlugAndBlurbToPages: migrating =========================================\n",
      "-- add_column(:pages, :slug, :string)\n",
      "   -> 0.0010s\n",
      "-- add_column(:pages, :blurb, :string)\n",
      "   -> 0.0007s\n",
      "==  AddSlugAndBlurbToPages: migrated (0.0019s) ================================"
     ]
    },
    {
     "cell_type": "heading",
     "level": 2,
     "metadata": {},
     "source": [
      "Roll back the migration to the previous one"
     ]
    },
    {
     "cell_type": "markdown",
     "metadata": {},
     "source": [
      "<pre><strong>\n",
      "rake db:rollback\n",
      "</strong></pre>"
     ]
    },
    {
     "cell_type": "raw",
     "metadata": {},
     "source": [
      "==  AddSlugAndBlurbToPages: reverting =========================================\n",
      "-- remove_column(:pages, :blurb, :string)\n",
      "   -> 0.0238s\n",
      "-- remove_column(:pages, :slug, :string)\n",
      "   -> 0.0006s\n",
      "==  AddSlugAndBlurbToPages: reverted (0.2063s) ================================"
     ]
    },
    {
     "cell_type": "heading",
     "level": 3,
     "metadata": {},
     "source": [
      "Manually edit the migration file to remove :blurb and re-run db:migrate. Don't forget to change the tinestamp in the filename and the class name"
     ]
    },
    {
     "cell_type": "heading",
     "level": 2,
     "metadata": {},
     "source": [
      "Adding some validation"
     ]
    },
    {
     "cell_type": "heading",
     "level": 3,
     "metadata": {},
     "source": [
      "run rails console --sandbox"
     ]
    },
    {
     "cell_type": "raw",
     "metadata": {},
     "source": [
      "quan@quan-VirtualBox:~/rails_projects/jumpstartrails$ rails c --sandbox\n",
      "Loading development environment in sandbox (Rails 4.0.0)\n",
      "Any modifications you make will be rolled back on exit\n",
      "\n",
      "2.0.0p247 :001 > Page\n",
      " => Page(id: integer, title: string, content: text, created_at: datetime, updated_at: datetime, slug: string) \n",
      "2.0.0p247 :002 > bad_data = Page.new(:title => 'a', :content => 'Here is some content', :slug => 'my-first-page')\n",
      " => #<Page id: nil, title: \"a\", content: \"Here is some content\", created_at: nil, updated_at: nil, slug: \"my-first-page\"> \n",
      "\n",
      "2.0.0p247 :003 > bad_data.new_record?\n",
      " => true \n",
      "\n",
      "2.0.0p247 :004 > bad_data.save\n",
      "   (0.4ms)  SAVEPOINT active_record_1\n",
      "  SQL (55.9ms)  INSERT INTO \"pages\" (\"content\", \"created_at\", \"slug\", \"title\", \"updated_at\") VALUES ($1, $2, $3, $4, $5) RETURNING \"id\"  [[\"content\", \"Here is some content\"], [\"created_at\", Mon, 16 Sep 2013 23:13:13 UTC +00:00], [\"slug\", \"my-first-page\"], [\"title\", \"a\"], [\"updated_at\", Mon, 16 Sep 2013 23:13:13 UTC +00:00]]\n",
      "   (0.4ms)  RELEASE SAVEPOINT active_record_1\n",
      " => true \n",
      "\n",
      "2.0.0p247 :005 > Page.all\n",
      "  Page Load (0.7ms)  SELECT \"pages\".* FROM \"pages\"\n",
      " => #<ActiveRecord::Relation [#<Page id: 1, title: \"a\", content: \"Here is some content\", created_at: \"2013-09-16 23:13:13\", updated_at: \"2013-09-16 23:13:13\", slug: \"my-first-page\">]> \n",
      "\n",
      "2.0.0p247 :006 > Page.find(1)\n",
      "  Page Load (1.0ms)  SELECT \"pages\".* FROM \"pages\" WHERE \"pages\".\"id\" = $1 LIMIT 1  [[\"id\", 1]]\n",
      " => #<Page id: 1, title: \"a\", content: \"Here is some content\", created_at: \"2013-09-16 23:13:13\", updated_at: \"2013-09-16 23:13:13\", slug: \"my-first-page\"> \n",
      "\n",
      "2.0.0p247 :013 > page=Page.find(1)\n",
      "  Page Load (0.5ms)  SELECT \"pages\".* FROM \"pages\" WHERE \"pages\".\"id\" = $1 LIMIT 1  [[\"id\", 1]]\n",
      " => #<Page id: 1, title: \"a\", content: \"Here is some content\", created_at: \"2013-09-16 23:13:13\", updated_at: \"2013-09-16 23:13:13\", slug: \"my-first-page\">\n",
      "\n",
      "2.0.0p247 :014 > page.update_attributes(:title => 'Fixing the bad data')\n",
      "   (0.4ms)  SAVEPOINT active_record_1\n",
      "  SQL (1.0ms)  UPDATE \"pages\" SET \"title\" = $1, \"updated_at\" = $2 WHERE \"pages\".\"id\" = 1  [[\"title\", \"Fixing the bad data\"], [\"updated_at\", Mon, 16 Sep 2013 23:27:03 UTC +00:00]]\n",
      "   (0.3ms)  RELEASE SAVEPOINT active_record_1\n",
      " => true \n",
      "\n",
      "2.0.0p247 :015 > Page.find(1)\n",
      "  Page Load (0.5ms)  SELECT \"pages\".* FROM \"pages\" WHERE \"pages\".\"id\" = $1 LIMIT 1  [[\"id\", 1]]\n",
      " => #<Page id: 1, title: \"Fixing the bad data\", content: \"Here is some content\", created_at: \"2013-09-16 23:13:13\", updated_at: \"2013-09-16 23:27:03\", slug: \"my-first-page\"> \n",
      "\n",
      "2.0.0p247 :016 > exit\n",
      "   (0.4ms)  ROLLBACK\n",
      "quan@quan-VirtualBox:~/rails_projects/jumpstartrails$ "
     ]
    },
    {
     "cell_type": "heading",
     "level": 3,
     "metadata": {},
     "source": [
      "app/models/page.rb"
     ]
    },
    {
     "cell_type": "raw",
     "metadata": {},
     "source": [
      "class Page < ActiveRecord::Base\n",
      "\tattr_accessible :title, :slug, :b;urb, :content\n",
      "\tvalidates :title, presence: true, length: { minimum: 5 }\n",
      "\tvalidates :slug, presence: true, format: { with: /\\A[a-zA-Z-]+\\z/, message: \"Only letters allowed\" }\n",
      "\tvalidates :content, presence: true, length: { minimum: 100 }\t\t\n",
      "end"
     ]
    },
    {
     "cell_type": "heading",
     "level": 3,
     "metadata": {},
     "source": [
      "Generate controller for page model"
     ]
    },
    {
     "cell_type": "raw",
     "metadata": {},
     "source": [
      "rails g controller pages index\n",
      "\n",
      "      create  app/controllers/pages_controller.rb\n",
      "       route  get \"pages/index\"\n",
      "      invoke  erb\n",
      "      create    app/views/pages\n",
      "      create    app/views/pages/index.html.erb\n",
      "      invoke  test_unit\n",
      "      create    test/controllers/pages_controller_test.rb\n",
      "      invoke  helper\n",
      "      create    app/helpers/pages_helper.rb\n",
      "      invoke    test_unit\n",
      "      create      test/helpers/pages_helper_test.rb\n",
      "      invoke  assets\n",
      "      invoke    coffee\n",
      "      create      app/assets/javascripts/pages.js.coffee\n",
      "      invoke    scss\n",
      "      create      app/assets/stylesheets/pages.css.scss\n"
     ]
    },
    {
     "cell_type": "heading",
     "level": 2,
     "metadata": {},
     "source": [
      "Adding another resource"
     ]
    },
    {
     "cell_type": "markdown",
     "metadata": {},
     "source": [
      "<pre><strong>\n",
      "rails g model Category title:string slug:string description:string\n",
      "</strong></pre>"
     ]
    },
    {
     "cell_type": "raw",
     "metadata": {},
     "source": [
      "      invoke  active_record\n",
      "      create    db/migrate/20130917003101_create_categories.rb\n",
      "      create    app/models/category.rb\n",
      "      invoke    test_unit\n",
      "      create      test/models/category_test.rb\n",
      "      create      test/fixtures/categories.yml"
     ]
    },
    {
     "cell_type": "markdown",
     "metadata": {},
     "source": [
      "<pre><strong>\n",
      "rails g model Post title:string slug:string blurb:string content:text category:references\n",
      "</strong></pre>"
     ]
    },
    {
     "cell_type": "raw",
     "metadata": {},
     "source": [
      "      invoke  active_record\n",
      "      create    db/migrate/20130917003255_create_posts.rb\n",
      "      create    app/models/post.rb\n",
      "      invoke    test_unit\n",
      "      create      test/models/post_test.rb\n",
      "      create      test/fixtures/posts.yml"
     ]
    },
    {
     "cell_type": "markdown",
     "metadata": {},
     "source": [
      "<pre><strong>\n",
      "rake db:migrate\n",
      "</strong></pre>"
     ]
    },
    {
     "cell_type": "raw",
     "metadata": {},
     "source": [
      "==  CreateCategories: migrating ===============================================\n",
      "-- create_table(:categories)\n",
      "   -> 0.2104s\n",
      "==  CreateCategories: migrated (0.2106s) ======================================\n",
      "\n",
      "==  CreatePosts: migrating ====================================================\n",
      "-- create_table(:posts)\n",
      "   -> 0.0166s\n",
      "==  CreatePosts: migrated (0.0167s) ==========================================="
     ]
    },
    {
     "cell_type": "heading",
     "level": 3,
     "metadata": {},
     "source": [
      "Add route for /pages in config/routes.rb"
     ]
    },
    {
     "cell_type": "raw",
     "metadata": {},
     "source": [
      "  get \"pages/index\"            # automatically created when controller was generated\n",
      "  get \"pages\" => 'pages#index' # added"
     ]
    },
    {
     "cell_type": "heading",
     "level": 2,
     "metadata": {},
     "source": [
      "Adding a test for routes"
     ]
    },
    {
     "cell_type": "heading",
     "level": 3,
     "metadata": {},
     "source": [
      "test/controllers/pages_controller_test.rb"
     ]
    },
    {
     "cell_type": "raw",
     "metadata": {},
     "source": [
      "require 'test_helper'\n",
      "\n",
      "class PagesControllerTest < ActionController::TestCase\n",
      "  test \"should get index\" do\n",
      "    get :index\n",
      "    assert_response :success\n",
      "  end\n",
      "  test \"should route to page\" do\n",
      "  \tassert_routing '/pages/1', { :controller => \"pages\", :action => \"show\", :id => \"1\"}\n",
      "  end\n",
      "  test \"should route to about page\" do\n",
      "  \tassert_routing '/about', { :controller => \"pages\", :action => \"about\" }\n",
      "  end\n",
      "\n",
      "end"
     ]
    },
    {
     "cell_type": "heading",
     "level": 3,
     "metadata": {},
     "source": [
      "config/routes.rb"
     ]
    },
    {
     "cell_type": "raw",
     "metadata": {},
     "source": [
      "    get \"pages/index\"\n",
      "    get \"pages\" => 'pages#index'\n",
      "    resources :pages\n",
      "    root 'pages#index'\n",
      "    \n",
      "    %w[about contact cv].each do |page|\n",
      "        get page, controller: 'pages', action: page\n",
      "    end"
     ]
    },
    {
     "cell_type": "heading",
     "level": 3,
     "metadata": {},
     "source": [
      "app/controllers/pages_controller.rb"
     ]
    },
    {
     "cell_type": "raw",
     "metadata": {},
     "source": [
      "class PagesController < ApplicationController\n",
      "  def index\n",
      "  end\n",
      "  def about\n",
      "  end\n",
      "end"
     ]
    },
    {
     "cell_type": "heading",
     "level": 2,
     "metadata": {},
     "source": [
      "Installing ActiveAdmin"
     ]
    },
    {
     "cell_type": "heading",
     "level": 3,
     "metadata": {},
     "source": [
      "Add to Gemfile"
     ]
    },
    {
     "cell_type": "raw",
     "metadata": {},
     "source": [
      "gem 'devise', github: 'plataformatec/devise', branch: 'v3.1'\n",
      "gem 'activeadmin', github: 'RubySource/active_admin', branch: 'rails4'\n",
      "gem 'ransack', github: 'RubySource/ransack', branch: 'rails-4'\n",
      "gem 'protected_attributes'\n",
      "#gem 'jquery-ui-rails', '~> 2.3.0' # or change gem 'jquery-rails', '~> 2.3.0'\n",
      "gem \"jquery-ui-rails\", \"~> 4.0.4\"\n",
      "\n",
      "gem 'devise', github: 'plataformatec/devise'\n",
      "gem 'activeadmin', github: 'gregbell/active_admin',branch: 'rails4'\n",
      "gem \"ransack\"\n",
      "#gem 'protected_attributes'"
     ]
    },
    {
     "cell_type": "heading",
     "level": 3,
     "metadata": {},
     "source": [
      "Generate active_admin"
     ]
    },
    {
     "cell_type": "markdown",
     "metadata": {},
     "source": [
      "<pre><strong>\n",
      "rails generate active_admin:install\n",
      "</strong></pre>"
     ]
    },
    {
     "cell_type": "raw",
     "metadata": {},
     "source": [
      "      invoke  devise\n",
      "    generate    devise:install\n",
      "      create    config/initializers/devise.rb\n",
      "      create    config/locales/devise.en.yml\n",
      "  ===============================================================================\n",
      "\n",
      "Some setup you must do manually if you haven't yet:\n",
      "\n",
      "  1. Ensure you have defined default url options in your environments files. Here \n",
      "     is an example of default_url_options appropriate for a development environment \n",
      "     in config/environments/development.rb:\n",
      "\n",
      "       config.action_mailer.default_url_options = { :host => 'localhost:3000' }\n",
      "\n",
      "     In production, :host should be set to the actual host of your application.\n",
      "\n",
      "  2. Ensure you have defined root_url to *something* in your config/routes.rb.\n",
      "     For example:\n",
      "\n",
      "       root :to => \"home#index\"\n",
      "\n",
      "  3. Ensure you have flash messages in app/views/layouts/application.html.erb.\n",
      "     For example:\n",
      "\n",
      "       <p class=\"notice\"><%= notice %></p>\n",
      "       <p class=\"alert\"><%= alert %></p>\n",
      "\n",
      "  4. If you are deploying on Heroku with Rails 3.2 only, you may want to set:\n",
      "\n",
      "       config.assets.initialize_on_precompile = false\n",
      "\n",
      "     On config/application.rb forcing your application to not access the DB\n",
      "     or load models when precompiling your assets.\n",
      "\n",
      "  5. You can copy Devise views (for customization) to your app by running:\n",
      "\n",
      "       rails g devise:views\n",
      "\n",
      "===============================================================================\n",
      "      invoke    active_record\n",
      "      create      db/migrate/20130917013456_devise_create_admin_users.rb\n",
      "      create      app/models/admin_user.rb\n",
      "      invoke      test_unit\n",
      "      create        test/models/admin_user_test.rb\n",
      "      create        test/fixtures/admin_users.yml\n",
      "      insert      app/models/admin_user.rb\n",
      "       route    devise_for :admin_users\n",
      "        gsub    app/models/admin_user.rb\n",
      "        gsub    config/routes.rb\n",
      "      insert    db/migrate/20130917013456_devise_create_admin_users.rb\n",
      "      create  config/initializers/active_admin.rb\n",
      "      create  app/admin\n",
      "      create  app/admin/dashboard.rb\n",
      "      create  app/admin/admin_user.rb\n",
      "      insert  config/routes.rb\n",
      "    generate  active_admin:assets\n",
      "      create  app/assets/javascripts/active_admin.js\n",
      "      create  app/assets/stylesheets/active_admin.css.scss\n",
      "      create  db/migrate/20130917013457_create_admin_notes.rb\n",
      "      create  db/migrate/20130917013458_move_admin_notes_to_comments.rb\n"
     ]
    },
    {
     "cell_type": "heading",
     "level": 3,
     "metadata": {},
     "source": [
      "app/views/layout/application/html.erb"
     ]
    },
    {
     "cell_type": "raw",
     "metadata": {},
     "source": [
      "Add \n",
      "\n",
      "  <p class=\"notice\"><%= notice %></p>\n",
      "  <p class=\"alert\"><%= alert %></p>\n",
      "      \n",
      "before\n",
      "      \n",
      "  <%= yield %>"
     ]
    },
    {
     "cell_type": "heading",
     "level": 3,
     "metadata": {},
     "source": [
      "config/application.rb "
     ]
    },
    {
     "cell_type": "raw",
     "metadata": {},
     "source": [
      "Add\n",
      "\n",
      "  # config.assets.initialize_on_precompile = false # commented out for now\n"
     ]
    },
    {
     "cell_type": "heading",
     "level": 3,
     "metadata": {},
     "source": [
      "Current db/migrate/<timestamp>_devise_create_admin_users.rb"
     ]
    },
    {
     "cell_type": "raw",
     "metadata": {},
     "source": [
      "class DeviseCreateAdminUsers < ActiveRecord::Migration\n",
      "  def migrate(direction)\n",
      "    super\n",
      "    # Create a default user\n",
      "    AdminUser.create!(:email => 'admin@example.com', :password => 'password', :password_confirmation => 'password') if direction == :up\n",
      "  end\n",
      "\n",
      "  def change\n",
      "    create_table(:admin_users) do |t|\n",
      "      ## Database authenticatable\n",
      "      t.string :email,              :null => false, :default => \"\"\n",
      "      t.string :encrypted_password, :null => false, :default => \"\"\n",
      "\n",
      "      ## Recoverable\n",
      "      t.string   :reset_password_token\n",
      "      t.datetime :reset_password_sent_at\n",
      "\n",
      "      ## Rememberable\n",
      "      t.datetime :remember_created_at\n",
      "\n",
      "      ## Trackable\n",
      "      t.integer  :sign_in_count, :default => 0, :null => false\n",
      "      t.datetime :current_sign_in_at\n",
      "      t.datetime :last_sign_in_at\n",
      "      t.string   :current_sign_in_ip\n",
      "      t.string   :last_sign_in_ip\n",
      "\n",
      "      ## Confirmable\n",
      "      # t.string   :confirmation_token\n",
      "      # t.datetime :confirmed_at\n",
      "      # t.datetime :confirmation_sent_at\n",
      "      # t.string   :unconfirmed_email # Only if using reconfirmable\n",
      "\n",
      "      ## Lockable\n",
      "      # t.integer  :failed_attempts, :default => 0, :null => false # Only if lock strategy is :failed_attempts\n",
      "      # t.string   :unlock_token # Only if unlock strategy is :email or :both\n",
      "      # t.datetime :locked_at\n",
      "\n",
      "\n",
      "      t.timestamps\n",
      "    end\n",
      "\n",
      "    add_index :admin_users, :email,                :unique => true\n",
      "    add_index :admin_users, :reset_password_token, :unique => true\n",
      "    # add_index :admin_users, :confirmation_token,   :unique => true\n",
      "    # add_index :admin_users, :unlock_token,         :unique => true\n",
      "  end\n",
      "end\n"
     ]
    },
    {
     "cell_type": "heading",
     "level": 2,
     "metadata": {},
     "source": [
      "Gems"
     ]
    },
    {
     "cell_type": "raw",
     "metadata": {},
     "source": [
      "quan@quan-VirtualBox:~/rails_projects/jumpstartrails$ bundle show\n",
      "Gems included by the bundle:\n",
      "  * actionmailer (4.0.0)\n",
      "  * actionpack (4.0.0)\n",
      "  * activeadmin (0.6.0 ac4918e)\n",
      "  * activemodel (4.0.0)\n",
      "  * activerecord (4.0.0)\n",
      "  * activerecord-deprecated_finders (1.0.3)\n",
      "  * activesupport (4.0.0)\n",
      "  * arbre (1.0.1)\n",
      "  * arel (4.0.0)\n",
      "  * atomic (1.1.14)\n",
      "  * bcrypt-ruby (3.1.2)\n",
      "  * bourbon (3.1.8)\n",
      "  * builder (3.1.4)\n",
      "  * bundler (1.3.5)\n",
      "  * coffee-rails (4.0.0)\n",
      "  * coffee-script (2.2.0)\n",
      "  * coffee-script-source (1.6.3)\n",
      "  * devise (3.1.0 c323065)\n",
      "  * erubis (2.7.0)\n",
      "  * execjs (2.0.1)\n",
      "  * formtastic (2.3.0.rc2)\n",
      "  * has_scope (0.6.0.rc)\n",
      "  * hike (1.2.3)\n",
      "  * i18n (0.6.5)\n",
      "  * inherited_resources (1.4.1)\n",
      "  * jbuilder (1.5.1)\n",
      "  * jquery-rails (3.0.4)\n",
      "  * jquery-ui-rails (4.0.4)\n",
      "  * json (1.8.0)\n",
      "  * kaminari (0.14.1)\n",
      "  * libv8 (3.16.14.3)\n",
      "  * mail (2.5.4)\n",
      "  * mime-types (1.25)\n",
      "  * minitest (4.7.5)\n",
      "  * multi_json (1.8.0)\n",
      "  * orm_adapter (0.4.0)\n",
      "  * pg (0.17.0)\n",
      "  * polyamorous (0.6.4)\n",
      "  * polyglot (0.3.3)\n",
      "  * rack (1.5.2)\n",
      "  * rack-test (0.6.2)\n",
      "  * rails (4.0.0)\n",
      "  * railties (4.0.0)\n",
      "  * rake (10.1.0)\n",
      "  * ransack (1.0.0)\n",
      "  * rdoc (3.12.2)\n",
      "  * ref (1.0.5)\n",
      "  * responders (1.0.0.rc)\n",
      "  * sass (3.2.10)\n",
      "  * sass-rails (4.0.0)\n",
      "  * sdoc (0.3.20)\n",
      "  * sprockets (2.10.0)\n",
      "  * sprockets-rails (2.0.0)\n",
      "  * therubyracer (0.12.0)\n",
      "  * thor (0.18.1)\n",
      "  * thread_safe (0.1.3)\n",
      "  * tilt (1.4.1)\n",
      "  * treetop (1.4.15)\n",
      "  * turbolinks (1.3.0)\n",
      "  * tzinfo (0.3.37)\n",
      "  * uglifier (2.2.1)\n",
      "  * warden (1.2.3)\n",
      "quan@quan-VirtualBox:~/rails_projects/jumpstartrails$ \n",
      "quan@quan-VirtualBox:~/rails_projects/jumpstartrails$ bundle show --paths\n",
      "/home/quan/.rvm/gems/ruby-2.0.0-p247@jumpstartrails/gems/actionmailer-4.0.0\n",
      "/home/quan/.rvm/gems/ruby-2.0.0-p247@jumpstartrails/gems/actionpack-4.0.0\n",
      "/home/quan/.rvm/gems/ruby-2.0.0-p247@jumpstartrails/bundler/gems/active_admin-ac4918ef99cf\n",
      "/home/quan/.rvm/gems/ruby-2.0.0-p247@jumpstartrails/gems/activemodel-4.0.0\n",
      "/home/quan/.rvm/gems/ruby-2.0.0-p247@jumpstartrails/gems/activerecord-4.0.0\n",
      "/home/quan/.rvm/gems/ruby-2.0.0-p247@jumpstartrails/gems/activerecord-deprecated_finders-1.0.3\n",
      "/home/quan/.rvm/gems/ruby-2.0.0-p247@jumpstartrails/gems/activesupport-4.0.0\n",
      "/home/quan/.rvm/gems/ruby-2.0.0-p247@jumpstartrails/gems/arbre-1.0.1\n",
      "/home/quan/.rvm/gems/ruby-2.0.0-p247@jumpstartrails/gems/arel-4.0.0\n",
      "/home/quan/.rvm/gems/ruby-2.0.0-p247@jumpstartrails/gems/atomic-1.1.14\n",
      "/home/quan/.rvm/gems/ruby-2.0.0-p247@jumpstartrails/gems/bcrypt-ruby-3.1.2\n",
      "/home/quan/.rvm/gems/ruby-2.0.0-p247@jumpstartrails/gems/bourbon-3.1.8\n",
      "/home/quan/.rvm/gems/ruby-2.0.0-p247@jumpstartrails/gems/builder-3.1.4\n",
      "/home/quan/.rvm/gems/ruby-2.0.0-p247@global/gems/bundler-1.3.5\n",
      "/home/quan/.rvm/gems/ruby-2.0.0-p247@jumpstartrails/gems/coffee-rails-4.0.0\n",
      "/home/quan/.rvm/gems/ruby-2.0.0-p247@jumpstartrails/gems/coffee-script-2.2.0\n",
      "/home/quan/.rvm/gems/ruby-2.0.0-p247@jumpstartrails/gems/coffee-script-source-1.6.3\n",
      "/home/quan/.rvm/gems/ruby-2.0.0-p247@jumpstartrails/bundler/gems/devise-c323065b5727\n",
      "/home/quan/.rvm/gems/ruby-2.0.0-p247@jumpstartrails/gems/erubis-2.7.0\n",
      "/home/quan/.rvm/gems/ruby-2.0.0-p247@jumpstartrails/gems/execjs-2.0.1\n",
      "/home/quan/.rvm/gems/ruby-2.0.0-p247@jumpstartrails/gems/formtastic-2.3.0.rc2\n",
      "/home/quan/.rvm/gems/ruby-2.0.0-p247@jumpstartrails/gems/has_scope-0.6.0.rc\n",
      "/home/quan/.rvm/gems/ruby-2.0.0-p247@jumpstartrails/gems/hike-1.2.3\n",
      "/home/quan/.rvm/gems/ruby-2.0.0-p247@jumpstartrails/gems/i18n-0.6.5\n",
      "/home/quan/.rvm/gems/ruby-2.0.0-p247@jumpstartrails/gems/inherited_resources-1.4.1\n",
      "/home/quan/.rvm/gems/ruby-2.0.0-p247@jumpstartrails/gems/jbuilder-1.5.1\n",
      "/home/quan/.rvm/gems/ruby-2.0.0-p247@jumpstartrails/gems/jquery-rails-3.0.4\n",
      "/home/quan/.rvm/gems/ruby-2.0.0-p247@jumpstartrails/gems/jquery-ui-rails-4.0.4\n",
      "/home/quan/.rvm/gems/ruby-2.0.0-p247@jumpstartrails/gems/json-1.8.0\n",
      "/home/quan/.rvm/gems/ruby-2.0.0-p247@jumpstartrails/gems/kaminari-0.14.1\n",
      "/home/quan/.rvm/gems/ruby-2.0.0-p247@jumpstartrails/gems/libv8-3.16.14.3\n",
      "/home/quan/.rvm/gems/ruby-2.0.0-p247@jumpstartrails/gems/mail-2.5.4\n",
      "/home/quan/.rvm/gems/ruby-2.0.0-p247@jumpstartrails/gems/mime-types-1.25\n",
      "/home/quan/.rvm/gems/ruby-2.0.0-p247@jumpstartrails/gems/minitest-4.7.5\n",
      "/home/quan/.rvm/gems/ruby-2.0.0-p247@jumpstartrails/gems/multi_json-1.8.0\n",
      "/home/quan/.rvm/gems/ruby-2.0.0-p247@jumpstartrails/gems/orm_adapter-0.4.0\n",
      "/home/quan/.rvm/gems/ruby-2.0.0-p247@jumpstartrails/gems/pg-0.17.0\n",
      "/home/quan/.rvm/gems/ruby-2.0.0-p247@jumpstartrails/gems/polyamorous-0.6.4\n",
      "/home/quan/.rvm/gems/ruby-2.0.0-p247@jumpstartrails/gems/polyglot-0.3.3\n",
      "/home/quan/.rvm/gems/ruby-2.0.0-p247@jumpstartrails/gems/rack-1.5.2\n",
      "/home/quan/.rvm/gems/ruby-2.0.0-p247@jumpstartrails/gems/rack-test-0.6.2\n",
      "/home/quan/.rvm/gems/ruby-2.0.0-p247@jumpstartrails/gems/rails-4.0.0\n",
      "/home/quan/.rvm/gems/ruby-2.0.0-p247@jumpstartrails/gems/railties-4.0.0\n",
      "/home/quan/.rvm/gems/ruby-2.0.0-p247@global/gems/rake-10.1.0\n",
      "/home/quan/.rvm/gems/ruby-2.0.0-p247@jumpstartrails/gems/ransack-1.0.0\n",
      "/home/quan/.rvm/gems/ruby-2.0.0-p247@jumpstartrails/gems/rdoc-3.12.2\n",
      "/home/quan/.rvm/gems/ruby-2.0.0-p247@jumpstartrails/gems/ref-1.0.5\n",
      "/home/quan/.rvm/gems/ruby-2.0.0-p247@jumpstartrails/gems/responders-1.0.0.rc\n",
      "/home/quan/.rvm/gems/ruby-2.0.0-p247@jumpstartrails/gems/sass-3.2.10\n",
      "/home/quan/.rvm/gems/ruby-2.0.0-p247@jumpstartrails/gems/sass-rails-4.0.0\n",
      "/home/quan/.rvm/gems/ruby-2.0.0-p247@jumpstartrails/gems/sdoc-0.3.20\n",
      "/home/quan/.rvm/gems/ruby-2.0.0-p247@jumpstartrails/gems/sprockets-2.10.0\n",
      "/home/quan/.rvm/gems/ruby-2.0.0-p247@jumpstartrails/gems/sprockets-rails-2.0.0\n",
      "/home/quan/.rvm/gems/ruby-2.0.0-p247@jumpstartrails/gems/therubyracer-0.12.0\n",
      "/home/quan/.rvm/gems/ruby-2.0.0-p247@jumpstartrails/gems/thor-0.18.1\n",
      "/home/quan/.rvm/gems/ruby-2.0.0-p247@jumpstartrails/gems/thread_safe-0.1.3\n",
      "/home/quan/.rvm/gems/ruby-2.0.0-p247@jumpstartrails/gems/tilt-1.4.1\n",
      "/home/quan/.rvm/gems/ruby-2.0.0-p247@jumpstartrails/gems/treetop-1.4.15\n",
      "/home/quan/.rvm/gems/ruby-2.0.0-p247@jumpstartrails/gems/turbolinks-1.3.0\n",
      "/home/quan/.rvm/gems/ruby-2.0.0-p247@jumpstartrails/gems/tzinfo-0.3.37\n",
      "/home/quan/.rvm/gems/ruby-2.0.0-p247@jumpstartrails/gems/uglifier-2.2.1\n",
      "/home/quan/.rvm/gems/ruby-2.0.0-p247@jumpstartrails/gems/warden-1.2.3\n"
     ]
    },
    {
     "cell_type": "heading",
     "level": 3,
     "metadata": {},
     "source": [
      "rake db:migrate"
     ]
    },
    {
     "cell_type": "raw",
     "metadata": {},
     "source": [
      "==  DeviseCreateAdminUsers: migrating =========================================\n",
      "-- create_table(:admin_users)\n",
      "   -> 0.0454s\n",
      "-- add_index(:admin_users, :email, {:unique=>true})\n",
      "   -> 0.0052s\n",
      "-- add_index(:admin_users, :reset_password_token, {:unique=>true})\n",
      "   -> 0.0066s\n",
      "==  DeviseCreateAdminUsers: migrated (0.0578s) ================================\n",
      "\n",
      "==  CreateActiveAdminComments: migrating ======================================\n",
      "-- create_table(:active_admin_comments)\n",
      "   -> 0.1056s\n",
      "-- add_index(:active_admin_comments, [:namespace])\n",
      "   -> 0.0051s\n",
      "-- add_index(:active_admin_comments, [:author_type, :author_id])\n",
      "   -> 0.0048s\n",
      "-- add_index(:active_admin_comments, [:resource_type, :resource_id])\n",
      "   -> 0.0055s\n",
      "==  CreateActiveAdminComments: migrated (0.1215s) ============================="
     ]
    },
    {
     "cell_type": "heading",
     "level": 2,
     "metadata": {},
     "source": [
      "Error when create a new Page"
     ]
    },
    {
     "cell_type": "raw",
     "metadata": {},
     "source": [
      "Started POST \"/admin/pages\" for 127.0.0.1 at 2013-09-18 10:41:10 -0400\n",
      "Processing by Admin::PagesController#create as HTML\n",
      "  Parameters: {\"utf8\"=>\"\u2713\", \"authenticity_token\"=>\"fV6RTDxAjs3eWThswa6cTZ29sIyvcvtijyQiaiDhJVM=\", \"page\"=>{\"title\"=>\"About\", \"content\"=>\"<h2>About Jump Start Rails</h2>\\r\\n<p>Lorem ipsum dolor sit amet, eros aperiam mediocritatem id mea. Quo no dicit efficiendi. Quo cu nostro maiestatis adolescens. Pro cu meis choro admodum, putent animal sapientem sit te. Vel labores vituperatoribus ne, patrioque sententiae eum an. Magna utinam quaeque ea sea, id malis volumus efficiendi vim. Altera propriae at mei, munere epicuri ponderum pro ad.</p>\", \"slug\"=>\"about\"}, \"commit\"=>\"Create Page\"}\n",
      "  AdminUser Load (0.6ms)  SELECT \"admin_users\".* FROM \"admin_users\" WHERE \"admin_users\".\"id\" = 1 ORDER BY \"admin_users\".\"id\" ASC LIMIT 1\n",
      "Completed 500 Internal Server Error in 3ms\n",
      "\n",
      "ActiveModel::ForbiddenAttributesError (ActiveModel::ForbiddenAttributesError):\n",
      "  activemodel (4.0.0) lib/active_model/forbidden_attributes_protection.rb:21:in `sanitize_for_mass_assignment'\n",
      "  activerecord (4.0.0) lib/active_record/attribute_assignment.rb:21:in `assign_attributes'\n"
     ]
    },
    {
     "cell_type": "heading",
     "level": 3,
     "metadata": {},
     "source": [
      "Fixed by adding in app/admin/page.rb"
     ]
    },
    {
     "cell_type": "raw",
     "metadata": {},
     "source": [
      "ActiveAdmin.register Page do\n",
      "  #...\n",
      "  controller do\n",
      "    #...\n",
      "    def permitted_params\n",
      "      params.permit(:page => [:title, :content, :slug])\n",
      "    end\n",
      "  end\t\n",
      "end"
     ]
    }
   ],
   "metadata": {}
  }
 ]
}